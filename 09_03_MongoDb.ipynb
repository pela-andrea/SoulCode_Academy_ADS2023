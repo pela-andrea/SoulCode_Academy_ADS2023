{
  "nbformat": 4,
  "nbformat_minor": 0,
  "metadata": {
    "colab": {
      "provenance": [],
      "authorship_tag": "ABX9TyNjC4nlL9FZR1nKt5qJyhdY",
      "include_colab_link": true
    },
    "kernelspec": {
      "name": "python3",
      "display_name": "Python 3"
    },
    "language_info": {
      "name": "python"
    }
  },
  "cells": [
    {
      "cell_type": "markdown",
      "metadata": {
        "id": "view-in-github",
        "colab_type": "text"
      },
      "source": [
        "<a href=\"https://colab.research.google.com/github/pela-andrea/SoulCode_Academy_ADS2023/blob/main/09_03_MongoDb.ipynb\" target=\"_parent\"><img src=\"https://colab.research.google.com/assets/colab-badge.svg\" alt=\"Open In Colab\"/></a>"
      ]
    },
    {
      "cell_type": "markdown",
      "source": [
        "#Dataset AirBnB: MongoDb + Pandas\n",
        "##Projeto realizado no bootcamp de Análise de Dados/Martech da SoulCode Academy em Março de 2023.\n",
        "\n",
        "\n",
        "## - Criar 3 bancos de dados com os arquivos utilizados previamente e enviá-los ao MongoDb.\n",
        "\n",
        "##- Recuperá-los do Mongo via python e transformá-los em df.\n",
        "\n",
        "##- Tratamento dos dados.\n",
        "\n",
        "##- Análise."
      ],
      "metadata": {
        "id": "KEUA4xnm5VKn"
      }
    },
    {
      "cell_type": "markdown",
      "source": [
        "##**Preparar as Bibliotecas**\n"
      ],
      "metadata": {
        "id": "a2Srdlmg6et5"
      }
    },
    {
      "cell_type": "code",
      "execution_count": null,
      "metadata": {
        "colab": {
          "base_uri": "https://localhost:8080/"
        },
        "id": "xNB8x-4p5O7y",
        "outputId": "66a8bc14-9a39-4d51-a026-f011440b2eac"
      },
      "outputs": [
        {
          "output_type": "stream",
          "name": "stdout",
          "text": [
            "Looking in indexes: https://pypi.org/simple, https://us-python.pkg.dev/colab-wheels/public/simple/\n",
            "Requirement already satisfied: pymongo in /usr/local/lib/python3.9/dist-packages (4.3.3)\n",
            "Requirement already satisfied: dnspython<3.0.0,>=1.16.0 in /usr/local/lib/python3.9/dist-packages (from pymongo) (2.3.0)\n"
          ]
        }
      ],
      "source": [
        "pip install pymongo"
      ]
    },
    {
      "cell_type": "code",
      "source": [
        "import pymongo\n",
        "\n",
        "from pymongo import MongoClient"
      ],
      "metadata": {
        "id": "MDpbNldf6nlB"
      },
      "execution_count": null,
      "outputs": []
    },
    {
      "cell_type": "markdown",
      "source": [
        "**Conector MongoAtlas**"
      ],
      "metadata": {
        "id": "at3gqqKt6t05"
      }
    },
    {
      "cell_type": "code",
      "source": [
        "uri = \"mongodb+srv://pelaandrea.ipcl7g8.mongodb.net/?authSource=%24external&authMechanism=MONGODB-X509&retryWrites=true&w=majority\"\n",
        "client = MongoClient(uri, tls=True, tlsCertificateKeyFile='/content/X509-cert-1821336394932634981.pem',\n",
        "                     )\n",
        "\n",
        "db = client['soulcode']\n",
        "colecao = db['tarefa']\n"
      ],
      "metadata": {
        "id": "CBX8dGJB6rq2"
      },
      "execution_count": null,
      "outputs": []
    },
    {
      "cell_type": "code",
      "source": [
        "doc_count = colecao.count_documents({})\n",
        "print(doc_count)"
      ],
      "metadata": {
        "colab": {
          "base_uri": "https://localhost:8080/"
        },
        "id": "8eXLBlyE62lz",
        "outputId": "eb49ebd8-cb1e-435a-a06a-f6c2e4d465d1"
      },
      "execution_count": null,
      "outputs": [
        {
          "output_type": "stream",
          "name": "stdout",
          "text": [
            "0\n"
          ]
        }
      ]
    },
    {
      "cell_type": "markdown",
      "source": [
        "##Integração com Pandas e Google"
      ],
      "metadata": {
        "id": "d3o7KAeM7Mfi"
      }
    },
    {
      "cell_type": "code",
      "source": [
        "import pandas as pd\n",
        "import numpy as np\n",
        "from google.cloud import storage\n",
        "import os"
      ],
      "metadata": {
        "id": "N9I7ZF_o7Fey"
      },
      "execution_count": null,
      "outputs": []
    },
    {
      "cell_type": "markdown",
      "source": [
        "##Vinculando o GoogleCloud"
      ],
      "metadata": {
        "id": "Dy9sySkm7Xf3"
      }
    },
    {
      "cell_type": "code",
      "source": [
        "serviceAccount = '/content/ivory-amphora-377819-2df80ceb77e9.json' #Carregar o Tokien da conta de serviço, para quando chegar lá no Storage ele já chegue autorizado\n",
        "os.environ['GOOGLE_APPLICATION_CREDENTIALS'] = serviceAccount"
      ],
      "metadata": {
        "id": "HVb8AXXm7ao7"
      },
      "execution_count": null,
      "outputs": []
    },
    {
      "cell_type": "code",
      "source": [
        "#Configurações Google Cloud Storage\n",
        "client = storage.Client() #comando da biblioteca cloud storage google\n",
        "bucket = client.get_bucket('pela_andrea01') #cliente que obtem o bucket (nome do bucket)\n",
        "bucket.blob('ocorrenciass.csv') #nome do arquivo que será manipulado\n",
        "path = 'gs://pela_andrea01/brutos/ocorrenciass.csv' #caminho do arquivo, pegar sempre o link do Gsuit para ir direto pelo google"
      ],
      "metadata": {
        "id": "VByYakrI7c9u"
      },
      "execution_count": null,
      "outputs": []
    },
    {
      "cell_type": "markdown",
      "source": [
        "#1º Df - Cenipas - ocorrencias.*csv*"
      ],
      "metadata": {
        "id": "y6qOcs018ZXH"
      }
    },
    {
      "cell_type": "markdown",
      "source": [
        "##Incluindo o arquivo CSV"
      ],
      "metadata": {
        "id": "NEZnaADB7ok4"
      }
    },
    {
      "cell_type": "code",
      "source": [
        "path = '/content/ocorrenciass.csv'"
      ],
      "metadata": {
        "id": "lYVNvlt48CIB"
      },
      "execution_count": null,
      "outputs": []
    },
    {
      "cell_type": "code",
      "source": [
        "## Ler o arquivo csv\n",
        "df1 = pd.read_csv(path,sep=';',encoding='ISO-8859-1',parse_dates=['ocorrencia_dia'],dayfirst=True)"
      ],
      "metadata": {
        "id": "lfTShs8b7shg"
      },
      "execution_count": null,
      "outputs": []
    },
    {
      "cell_type": "code",
      "source": [
        "df1.shape"
      ],
      "metadata": {
        "colab": {
          "base_uri": "https://localhost:8080/"
        },
        "id": "DqL_YaRY9XyT",
        "outputId": "a1355f92-9331-4092-b983-c373d0ead4a9"
      },
      "execution_count": null,
      "outputs": [
        {
          "output_type": "execute_result",
          "data": {
            "text/plain": [
              "(6769, 22)"
            ]
          },
          "metadata": {},
          "execution_count": 11
        }
      ]
    },
    {
      "cell_type": "markdown",
      "source": [
        "##Enviando ao Mongo"
      ],
      "metadata": {
        "id": "eq-tOq768hbz"
      }
    },
    {
      "cell_type": "code",
      "source": [
        "db3 = client['tarefa']\n",
        "colecaocenipabruto = db3['Cenipa-brutos']\n",
        "colecaocenipabruto.count_documents({})"
      ],
      "metadata": {
        "colab": {
          "base_uri": "https://localhost:8080/"
        },
        "id": "g3V5BNG58SmB",
        "outputId": "c65c9bbc-316e-4a15-c8f8-4c23b1be3177"
      },
      "execution_count": null,
      "outputs": [
        {
          "output_type": "execute_result",
          "data": {
            "text/plain": [
              "0"
            ]
          },
          "metadata": {},
          "execution_count": 13
        }
      ]
    },
    {
      "cell_type": "code",
      "source": [
        "df_dict = df.to_dict(\"records\")\n",
        "colecaocenipabruto.insert_many(df_dict)"
      ],
      "metadata": {
        "colab": {
          "base_uri": "https://localhost:8080/"
        },
        "id": "Rdu8fIWk9MzC",
        "outputId": "12d51c0b-56ac-4aa9-a762-7f19f0256ae1"
      },
      "execution_count": null,
      "outputs": [
        {
          "output_type": "execute_result",
          "data": {
            "text/plain": [
              "<pymongo.results.InsertManyResult at 0x7fccb71b9040>"
            ]
          },
          "metadata": {},
          "execution_count": 14
        }
      ]
    },
    {
      "cell_type": "code",
      "source": [
        "# Contagem de linhas deve ter sempre o numero de linhas do shape tem que ser exato validação\n",
        "colecaocenipabruto.count_documents({})"
      ],
      "metadata": {
        "colab": {
          "base_uri": "https://localhost:8080/"
        },
        "id": "tiocC7rs9QUx",
        "outputId": "d9b9a2f0-cb0b-46cd-b66a-011f797e225a"
      },
      "execution_count": null,
      "outputs": [
        {
          "output_type": "execute_result",
          "data": {
            "text/plain": [
              "6769"
            ]
          },
          "metadata": {},
          "execution_count": 15
        }
      ]
    },
    {
      "cell_type": "markdown",
      "source": [
        "##Trazendo de volta para o df"
      ],
      "metadata": {
        "id": "Ub_VJOg8D1Al"
      }
    },
    {
      "cell_type": "code",
      "source": [
        "# Trazer o dado tratado no colab de volta\n",
        "cursor = colecaocenipabruto.find({})\n",
        "dfcenipabruto = pd.DataFrame(list(cursor))"
      ],
      "metadata": {
        "id": "wl_cr8199jKv"
      },
      "execution_count": null,
      "outputs": []
    },
    {
      "cell_type": "code",
      "source": [
        "dfcenipabruto"
      ],
      "metadata": {
        "id": "6Nx9J44_9xad"
      },
      "execution_count": null,
      "outputs": []
    },
    {
      "cell_type": "markdown",
      "source": [
        "##Tratando o df Cenipas-Bruto enviado ao Mongo"
      ],
      "metadata": {
        "id": "K_3mOPV29jg5"
      }
    },
    {
      "cell_type": "code",
      "source": [
        "# Drop de colunas identicas ( codigo_ocorrencia1 , codigo_ocorrencia2,codigo_ocorrencia3 , codigo_ocorrencia4)\n",
        "dfcenipabruto.drop(['codigo_ocorrencia1','codigo_ocorrencia2','codigo_ocorrencia3','codigo_ocorrencia4'],axis=1,inplace=True)\n",
        "# Drop de colunas com problemas e/ou não utilizadas na analise\n",
        "dfcenipabruto.drop(['ocorrencia_latitude','ocorrencia_longitude','investigacao_aeronave_liberada','investigacao_status','divulgacao_relatorio_numero','divulgacao_relatorio_publicado','divulgacao_dia_publicacao'],axis=1,inplace=True)"
      ],
      "metadata": {
        "id": "UenF46tC90v1"
      },
      "execution_count": null,
      "outputs": []
    },
    {
      "cell_type": "code",
      "source": [
        "#Renomeando colunas\n",
        "dfcenipabruto.rename(columns={'ocorrencia_classificacao':'classificacao','ocorrencia_cidade':'cidade','ocorrencia_uf':'uf','ocorrencia_pais':'pais'},inplace=True)\n",
        "dfcenipabruto.rename(columns={'ocorrencia_aerodromo':'aerodromo','ocorrencia_dia':'data','ocorrencia_hora':'horario','total_aeronaves_envolvidas':'n_aeronaves','ocorrencia_saida_pista':'saida_pista'},inplace=True)"
      ],
      "metadata": {
        "id": "zTKxJVJC_QCd"
      },
      "execution_count": null,
      "outputs": []
    },
    {
      "cell_type": "code",
      "source": [
        "dfcenipabruto.replace(['***','**NI'],pd.NA,inplace=True)"
      ],
      "metadata": {
        "id": "Ljjtpv6J_TVZ"
      },
      "execution_count": null,
      "outputs": []
    },
    {
      "cell_type": "code",
      "source": [
        "dfcenipabruto.replace(pd.NA,np.NaN,inplace=True)"
      ],
      "metadata": {
        "id": "rkz3NtSn_Zr6"
      },
      "execution_count": null,
      "outputs": []
    },
    {
      "cell_type": "code",
      "source": [
        "#Verificar o tamanho\n",
        "dfcenipabruto.shape"
      ],
      "metadata": {
        "colab": {
          "base_uri": "https://localhost:8080/"
        },
        "id": "PokRfsOy_a9W",
        "outputId": "d5224920-9d8a-4b60-c3b8-b8f41ec16ba8"
      },
      "execution_count": null,
      "outputs": [
        {
          "output_type": "execute_result",
          "data": {
            "text/plain": [
              "(6769, 19)"
            ]
          },
          "metadata": {},
          "execution_count": 24
        }
      ]
    },
    {
      "cell_type": "markdown",
      "source": [
        "##Cenipas Vira coleção Cenipas-Tratados"
      ],
      "metadata": {
        "id": "KJ0NiCVk_pSK"
      }
    },
    {
      "cell_type": "code",
      "source": [
        "db3 = client['tarefa']\n",
        "colecaocenipatratado = db3['Cenipa-Tratados']\n",
        "colecaocenipatratado.count_documents({})"
      ],
      "metadata": {
        "colab": {
          "base_uri": "https://localhost:8080/"
        },
        "id": "_OS_B-vuASZT",
        "outputId": "f0a4bb4d-cc86-4dcc-b8eb-fb311584cbc8"
      },
      "execution_count": null,
      "outputs": [
        {
          "output_type": "execute_result",
          "data": {
            "text/plain": [
              "0"
            ]
          },
          "metadata": {},
          "execution_count": 37
        }
      ]
    },
    {
      "cell_type": "code",
      "source": [
        "dfcenipabruto_dict = dfcenipabruto.to_dict(\"records\")\n",
        "colecaocenipatratado.insert_many(df_dict)"
      ],
      "metadata": {
        "colab": {
          "base_uri": "https://localhost:8080/"
        },
        "id": "wq6Mdo6GA9IK",
        "outputId": "f4dc7c6a-7974-474a-d63c-94cca4823140"
      },
      "execution_count": null,
      "outputs": [
        {
          "output_type": "execute_result",
          "data": {
            "text/plain": [
              "<pymongo.results.InsertManyResult at 0x7fccb5ed4a90>"
            ]
          },
          "metadata": {},
          "execution_count": 38
        }
      ]
    },
    {
      "cell_type": "code",
      "source": [
        "# Contagem de linhas deve ter sempre o numero de linhas do shape tem que ser exato validação\n",
        "colecaocenipatratado.count_documents({})"
      ],
      "metadata": {
        "colab": {
          "base_uri": "https://localhost:8080/"
        },
        "id": "IYlDbGTLBEzy",
        "outputId": "6588e01f-235b-4b1f-bdf3-7399bb6a0f0e"
      },
      "execution_count": null,
      "outputs": [
        {
          "output_type": "execute_result",
          "data": {
            "text/plain": [
              "6769"
            ]
          },
          "metadata": {},
          "execution_count": 39
        }
      ]
    },
    {
      "cell_type": "markdown",
      "source": [
        "# 2º Df - Alesp - depsp.csv"
      ],
      "metadata": {
        "id": "gL7IhLt1ASsz"
      }
    },
    {
      "cell_type": "markdown",
      "source": [
        "##Incluindo o arquivo CSV"
      ],
      "metadata": {
        "id": "t1kB3Td_CEk6"
      }
    },
    {
      "cell_type": "code",
      "source": [
        "path = '/content/depsp.csv'"
      ],
      "metadata": {
        "id": "3qVUln7iCEk7"
      },
      "execution_count": null,
      "outputs": []
    },
    {
      "cell_type": "code",
      "source": [
        "## Ler o arquivo csv\n",
        "df2 = pd.read_csv(path,sep=',',encoding='ISO-8859-1')"
      ],
      "metadata": {
        "colab": {
          "base_uri": "https://localhost:8080/"
        },
        "id": "lcBFA-AiCEk8",
        "outputId": "654d464e-650e-4a16-aaab-bf07435bcc4a"
      },
      "execution_count": null,
      "outputs": [
        {
          "output_type": "stream",
          "name": "stderr",
          "text": [
            "/usr/local/lib/python3.9/dist-packages/IPython/core/interactiveshell.py:3326: DtypeWarning: Columns (4) have mixed types.Specify dtype option on import or set low_memory=False.\n",
            "  exec(code_obj, self.user_global_ns, self.user_ns)\n"
          ]
        }
      ]
    },
    {
      "cell_type": "code",
      "source": [
        "df2.shape"
      ],
      "metadata": {
        "colab": {
          "base_uri": "https://localhost:8080/"
        },
        "outputId": "92d7f31a-652b-4eb7-d4d8-b8d3fbe164f6",
        "id": "B1KpRB46CEk8"
      },
      "execution_count": null,
      "outputs": [
        {
          "output_type": "execute_result",
          "data": {
            "text/plain": [
              "(542395, 8)"
            ]
          },
          "metadata": {},
          "execution_count": 33
        }
      ]
    },
    {
      "cell_type": "code",
      "source": [
        "df2"
      ],
      "metadata": {
        "id": "KZzoJWNsEXvf"
      },
      "execution_count": null,
      "outputs": []
    },
    {
      "cell_type": "markdown",
      "source": [
        "##Enviando ao Mongo"
      ],
      "metadata": {
        "id": "KMCwBCuvB_po"
      }
    },
    {
      "cell_type": "code",
      "source": [
        "db3 = client['tarefa']\n",
        "colecaoalespbruto = db3['Alesp-brutos']\n",
        "colecaoalespbruto.count_documents({})"
      ],
      "metadata": {
        "colab": {
          "base_uri": "https://localhost:8080/"
        },
        "outputId": "962c4317-ca60-45e4-9992-263def5bb630",
        "id": "je94zdLsB_pq"
      },
      "execution_count": null,
      "outputs": [
        {
          "output_type": "execute_result",
          "data": {
            "text/plain": [
              "0"
            ]
          },
          "metadata": {},
          "execution_count": 46
        }
      ]
    },
    {
      "cell_type": "code",
      "source": [
        "df2_dict = df2.to_dict(\"records\")\n",
        "colecaoalespbruto.insert_many(df2_dict)"
      ],
      "metadata": {
        "id": "dovzlYT-B_ps"
      },
      "execution_count": null,
      "outputs": []
    },
    {
      "cell_type": "code",
      "source": [
        "# Contagem de linhas deve ter sempre o numero de linhas do shape tem que ser exato validação\n",
        "colecaoalespbruto.count_documents({})"
      ],
      "metadata": {
        "colab": {
          "base_uri": "https://localhost:8080/"
        },
        "outputId": "536e943f-b17f-4f85-9783-98d1ffcfc73c",
        "id": "mGBaMTSFB_pt"
      },
      "execution_count": null,
      "outputs": [
        {
          "output_type": "execute_result",
          "data": {
            "text/plain": [
              "542395"
            ]
          },
          "metadata": {},
          "execution_count": 48
        }
      ]
    },
    {
      "cell_type": "markdown",
      "source": [
        "##Trazendo de volta para o df"
      ],
      "metadata": {
        "id": "5nBVa5TXEBqG"
      }
    },
    {
      "cell_type": "code",
      "source": [
        "# Trazer o dado tratado no colab de volta\n",
        "cursor = colecaoalespbruto.find({})\n",
        "dfcalespbruto = pd.DataFrame(list(cursor))"
      ],
      "metadata": {
        "id": "1XtKLSJkEBqH"
      },
      "execution_count": null,
      "outputs": []
    },
    {
      "cell_type": "code",
      "source": [
        "dfcalespbruto"
      ],
      "metadata": {
        "colab": {
          "base_uri": "https://localhost:8080/",
          "height": 624
        },
        "id": "jbA5EUBZEBqI",
        "outputId": "d222c219-6e47-422d-8c18-5c9059dac198"
      },
      "execution_count": null,
      "outputs": [
        {
          "output_type": "execute_result",
          "data": {
            "text/plain": [
              "                             _id   Ano  Matricula  Mes    Valor  \\\n",
              "0       640a42320de7247aecee0b34  2015     300257    3   200.00   \n",
              "1       640a42320de7247aecee0b35  2015     300257    3   295.40   \n",
              "2       640a42320de7247aecee0b36  2015     300257    3  2850.00   \n",
              "3       640a42320de7247aecee0b37  2015     300257    4   100.00   \n",
              "4       640a42320de7247aecee0b38  2015     300257    4   195.01   \n",
              "...                          ...   ...        ...  ...      ...   \n",
              "642390  640a438f0de7247aecf7d88a  2010     300446   11   950.00   \n",
              "642391  640a438f0de7247aecf7d88b  2010     300446   11   573.94   \n",
              "642392  640a438f0de7247aecf7d88c  2010     300446   11   524.84   \n",
              "642393  640a438f0de7247aecf7d88d  2010     300446   11  6500.00   \n",
              "642394  640a438f0de7247aecf7d88e  2010     300446   11  2650.00   \n",
              "\n",
              "                    CNPJ            Deputado  \\\n",
              "0         71806251000106  ABELARDO CAMARINHA   \n",
              "1         68064740000125  ABELARDO CAMARINHA   \n",
              "2            22145388877  ABELARDO CAMARINHA   \n",
              "3         10915883000113  ABELARDO CAMARINHA   \n",
              "4         71806251000106  ABELARDO CAMARINHA   \n",
              "...                  ...                 ...   \n",
              "642390      3001857820.0        CARLOS NEDER   \n",
              "642391  62268800000145.0        CARLOS NEDER   \n",
              "642392  43283811004309.0        CARLOS NEDER   \n",
              "642393   2447863000137.0        CARLOS NEDER   \n",
              "642394   9643129000192.0        CARLOS NEDER   \n",
              "\n",
              "                                                     Tipo  \\\n",
              "0                       A - COMBUSTÃVEIS E LUBRIFICANTES   \n",
              "1       E - MATERIAIS DE ESCRITÃRIO E OUTROS MATERIAI...   \n",
              "2                                             N - MORADIA   \n",
              "3                       A - COMBUSTÃVEIS E LUBRIFICANTES   \n",
              "4                       A - COMBUSTÃVEIS E LUBRIFICANTES   \n",
              "...                                                   ...   \n",
              "642390  B - LOCAÃÃO E MANUT DE BENS MÃVEIS E IMÃVE...   \n",
              "642391  B - LOCAÃÃO E MANUT DE BENS MÃVEIS E IMÃVE...   \n",
              "642392  E - MATERIAIS DE ESCRITÃRIO E OUTROS MATERIAI...   \n",
              "642393  F - SERVIÃOS TÃCNICOS PROFISSIONAIS (CONSULT...   \n",
              "642394  F - SERVIÃOS TÃCNICOS PROFISSIONAIS (CONSULT...   \n",
              "\n",
              "                                               Fornecedor  \n",
              "0                       AUTO POSTO DE SERVIÃOS MARV LTDA  \n",
              "1                               PAPER FACE COMERCIAL LTDA  \n",
              "2                               LARA SERVINO VARGAS ABREU  \n",
              "3                           CENTRO AUTOMOTIVO TOP 23 LTDA  \n",
              "4                       AUTO POSTO DE SERVIÃOS MARV LTDA  \n",
              "...                                                   ...  \n",
              "642390                      JOSÃ LUIZDE ANDRADE FEGUEIRA  \n",
              "642391                          COND.EDIF.VIADUTO JACAREI  \n",
              "642392          KALUNGA COMERCIO E INDUSTRIA GRAFICA LTDA  \n",
              "642393       AMARAL DOMINGOS NAKAZATO E SARTORI ADVOGADOS  \n",
              "642394  ABC COM - CONS E GEST. EM COM., MID. DIG. E NE...  \n",
              "\n",
              "[642395 rows x 9 columns]"
            ],
            "text/html": [
              "\n",
              "  <div id=\"df-4903c475-26f1-46d5-ba0b-27c64ea0251a\">\n",
              "    <div class=\"colab-df-container\">\n",
              "      <div>\n",
              "<style scoped>\n",
              "    .dataframe tbody tr th:only-of-type {\n",
              "        vertical-align: middle;\n",
              "    }\n",
              "\n",
              "    .dataframe tbody tr th {\n",
              "        vertical-align: top;\n",
              "    }\n",
              "\n",
              "    .dataframe thead th {\n",
              "        text-align: right;\n",
              "    }\n",
              "</style>\n",
              "<table border=\"1\" class=\"dataframe\">\n",
              "  <thead>\n",
              "    <tr style=\"text-align: right;\">\n",
              "      <th></th>\n",
              "      <th>_id</th>\n",
              "      <th>Ano</th>\n",
              "      <th>Matricula</th>\n",
              "      <th>Mes</th>\n",
              "      <th>Valor</th>\n",
              "      <th>CNPJ</th>\n",
              "      <th>Deputado</th>\n",
              "      <th>Tipo</th>\n",
              "      <th>Fornecedor</th>\n",
              "    </tr>\n",
              "  </thead>\n",
              "  <tbody>\n",
              "    <tr>\n",
              "      <th>0</th>\n",
              "      <td>640a42320de7247aecee0b34</td>\n",
              "      <td>2015</td>\n",
              "      <td>300257</td>\n",
              "      <td>3</td>\n",
              "      <td>200.00</td>\n",
              "      <td>71806251000106</td>\n",
              "      <td>ABELARDO CAMARINHA</td>\n",
              "      <td>A - COMBUSTÃVEIS E LUBRIFICANTES</td>\n",
              "      <td>AUTO POSTO DE SERVIÃOS MARV LTDA</td>\n",
              "    </tr>\n",
              "    <tr>\n",
              "      <th>1</th>\n",
              "      <td>640a42320de7247aecee0b35</td>\n",
              "      <td>2015</td>\n",
              "      <td>300257</td>\n",
              "      <td>3</td>\n",
              "      <td>295.40</td>\n",
              "      <td>68064740000125</td>\n",
              "      <td>ABELARDO CAMARINHA</td>\n",
              "      <td>E - MATERIAIS DE ESCRITÃRIO E OUTROS MATERIAI...</td>\n",
              "      <td>PAPER FACE COMERCIAL LTDA</td>\n",
              "    </tr>\n",
              "    <tr>\n",
              "      <th>2</th>\n",
              "      <td>640a42320de7247aecee0b36</td>\n",
              "      <td>2015</td>\n",
              "      <td>300257</td>\n",
              "      <td>3</td>\n",
              "      <td>2850.00</td>\n",
              "      <td>22145388877</td>\n",
              "      <td>ABELARDO CAMARINHA</td>\n",
              "      <td>N - MORADIA</td>\n",
              "      <td>LARA SERVINO VARGAS ABREU</td>\n",
              "    </tr>\n",
              "    <tr>\n",
              "      <th>3</th>\n",
              "      <td>640a42320de7247aecee0b37</td>\n",
              "      <td>2015</td>\n",
              "      <td>300257</td>\n",
              "      <td>4</td>\n",
              "      <td>100.00</td>\n",
              "      <td>10915883000113</td>\n",
              "      <td>ABELARDO CAMARINHA</td>\n",
              "      <td>A - COMBUSTÃVEIS E LUBRIFICANTES</td>\n",
              "      <td>CENTRO AUTOMOTIVO TOP 23 LTDA</td>\n",
              "    </tr>\n",
              "    <tr>\n",
              "      <th>4</th>\n",
              "      <td>640a42320de7247aecee0b38</td>\n",
              "      <td>2015</td>\n",
              "      <td>300257</td>\n",
              "      <td>4</td>\n",
              "      <td>195.01</td>\n",
              "      <td>71806251000106</td>\n",
              "      <td>ABELARDO CAMARINHA</td>\n",
              "      <td>A - COMBUSTÃVEIS E LUBRIFICANTES</td>\n",
              "      <td>AUTO POSTO DE SERVIÃOS MARV LTDA</td>\n",
              "    </tr>\n",
              "    <tr>\n",
              "      <th>...</th>\n",
              "      <td>...</td>\n",
              "      <td>...</td>\n",
              "      <td>...</td>\n",
              "      <td>...</td>\n",
              "      <td>...</td>\n",
              "      <td>...</td>\n",
              "      <td>...</td>\n",
              "      <td>...</td>\n",
              "      <td>...</td>\n",
              "    </tr>\n",
              "    <tr>\n",
              "      <th>642390</th>\n",
              "      <td>640a438f0de7247aecf7d88a</td>\n",
              "      <td>2010</td>\n",
              "      <td>300446</td>\n",
              "      <td>11</td>\n",
              "      <td>950.00</td>\n",
              "      <td>3001857820.0</td>\n",
              "      <td>CARLOS NEDER</td>\n",
              "      <td>B - LOCAÃÃO E MANUT DE BENS MÃVEIS E IMÃVE...</td>\n",
              "      <td>JOSÃ LUIZDE ANDRADE FEGUEIRA</td>\n",
              "    </tr>\n",
              "    <tr>\n",
              "      <th>642391</th>\n",
              "      <td>640a438f0de7247aecf7d88b</td>\n",
              "      <td>2010</td>\n",
              "      <td>300446</td>\n",
              "      <td>11</td>\n",
              "      <td>573.94</td>\n",
              "      <td>62268800000145.0</td>\n",
              "      <td>CARLOS NEDER</td>\n",
              "      <td>B - LOCAÃÃO E MANUT DE BENS MÃVEIS E IMÃVE...</td>\n",
              "      <td>COND.EDIF.VIADUTO JACAREI</td>\n",
              "    </tr>\n",
              "    <tr>\n",
              "      <th>642392</th>\n",
              "      <td>640a438f0de7247aecf7d88c</td>\n",
              "      <td>2010</td>\n",
              "      <td>300446</td>\n",
              "      <td>11</td>\n",
              "      <td>524.84</td>\n",
              "      <td>43283811004309.0</td>\n",
              "      <td>CARLOS NEDER</td>\n",
              "      <td>E - MATERIAIS DE ESCRITÃRIO E OUTROS MATERIAI...</td>\n",
              "      <td>KALUNGA COMERCIO E INDUSTRIA GRAFICA LTDA</td>\n",
              "    </tr>\n",
              "    <tr>\n",
              "      <th>642393</th>\n",
              "      <td>640a438f0de7247aecf7d88d</td>\n",
              "      <td>2010</td>\n",
              "      <td>300446</td>\n",
              "      <td>11</td>\n",
              "      <td>6500.00</td>\n",
              "      <td>2447863000137.0</td>\n",
              "      <td>CARLOS NEDER</td>\n",
              "      <td>F - SERVIÃOS TÃCNICOS PROFISSIONAIS (CONSULT...</td>\n",
              "      <td>AMARAL DOMINGOS NAKAZATO E SARTORI ADVOGADOS</td>\n",
              "    </tr>\n",
              "    <tr>\n",
              "      <th>642394</th>\n",
              "      <td>640a438f0de7247aecf7d88e</td>\n",
              "      <td>2010</td>\n",
              "      <td>300446</td>\n",
              "      <td>11</td>\n",
              "      <td>2650.00</td>\n",
              "      <td>9643129000192.0</td>\n",
              "      <td>CARLOS NEDER</td>\n",
              "      <td>F - SERVIÃOS TÃCNICOS PROFISSIONAIS (CONSULT...</td>\n",
              "      <td>ABC COM - CONS E GEST. EM COM., MID. DIG. E NE...</td>\n",
              "    </tr>\n",
              "  </tbody>\n",
              "</table>\n",
              "<p>642395 rows × 9 columns</p>\n",
              "</div>\n",
              "      <button class=\"colab-df-convert\" onclick=\"convertToInteractive('df-4903c475-26f1-46d5-ba0b-27c64ea0251a')\"\n",
              "              title=\"Convert this dataframe to an interactive table.\"\n",
              "              style=\"display:none;\">\n",
              "        \n",
              "  <svg xmlns=\"http://www.w3.org/2000/svg\" height=\"24px\"viewBox=\"0 0 24 24\"\n",
              "       width=\"24px\">\n",
              "    <path d=\"M0 0h24v24H0V0z\" fill=\"none\"/>\n",
              "    <path d=\"M18.56 5.44l.94 2.06.94-2.06 2.06-.94-2.06-.94-.94-2.06-.94 2.06-2.06.94zm-11 1L8.5 8.5l.94-2.06 2.06-.94-2.06-.94L8.5 2.5l-.94 2.06-2.06.94zm10 10l.94 2.06.94-2.06 2.06-.94-2.06-.94-.94-2.06-.94 2.06-2.06.94z\"/><path d=\"M17.41 7.96l-1.37-1.37c-.4-.4-.92-.59-1.43-.59-.52 0-1.04.2-1.43.59L10.3 9.45l-7.72 7.72c-.78.78-.78 2.05 0 2.83L4 21.41c.39.39.9.59 1.41.59.51 0 1.02-.2 1.41-.59l7.78-7.78 2.81-2.81c.8-.78.8-2.07 0-2.86zM5.41 20L4 18.59l7.72-7.72 1.47 1.35L5.41 20z\"/>\n",
              "  </svg>\n",
              "      </button>\n",
              "      \n",
              "  <style>\n",
              "    .colab-df-container {\n",
              "      display:flex;\n",
              "      flex-wrap:wrap;\n",
              "      gap: 12px;\n",
              "    }\n",
              "\n",
              "    .colab-df-convert {\n",
              "      background-color: #E8F0FE;\n",
              "      border: none;\n",
              "      border-radius: 50%;\n",
              "      cursor: pointer;\n",
              "      display: none;\n",
              "      fill: #1967D2;\n",
              "      height: 32px;\n",
              "      padding: 0 0 0 0;\n",
              "      width: 32px;\n",
              "    }\n",
              "\n",
              "    .colab-df-convert:hover {\n",
              "      background-color: #E2EBFA;\n",
              "      box-shadow: 0px 1px 2px rgba(60, 64, 67, 0.3), 0px 1px 3px 1px rgba(60, 64, 67, 0.15);\n",
              "      fill: #174EA6;\n",
              "    }\n",
              "\n",
              "    [theme=dark] .colab-df-convert {\n",
              "      background-color: #3B4455;\n",
              "      fill: #D2E3FC;\n",
              "    }\n",
              "\n",
              "    [theme=dark] .colab-df-convert:hover {\n",
              "      background-color: #434B5C;\n",
              "      box-shadow: 0px 1px 3px 1px rgba(0, 0, 0, 0.15);\n",
              "      filter: drop-shadow(0px 1px 2px rgba(0, 0, 0, 0.3));\n",
              "      fill: #FFFFFF;\n",
              "    }\n",
              "  </style>\n",
              "\n",
              "      <script>\n",
              "        const buttonEl =\n",
              "          document.querySelector('#df-4903c475-26f1-46d5-ba0b-27c64ea0251a button.colab-df-convert');\n",
              "        buttonEl.style.display =\n",
              "          google.colab.kernel.accessAllowed ? 'block' : 'none';\n",
              "\n",
              "        async function convertToInteractive(key) {\n",
              "          const element = document.querySelector('#df-4903c475-26f1-46d5-ba0b-27c64ea0251a');\n",
              "          const dataTable =\n",
              "            await google.colab.kernel.invokeFunction('convertToInteractive',\n",
              "                                                     [key], {});\n",
              "          if (!dataTable) return;\n",
              "\n",
              "          const docLinkHtml = 'Like what you see? Visit the ' +\n",
              "            '<a target=\"_blank\" href=https://colab.research.google.com/notebooks/data_table.ipynb>data table notebook</a>'\n",
              "            + ' to learn more about interactive tables.';\n",
              "          element.innerHTML = '';\n",
              "          dataTable['output_type'] = 'display_data';\n",
              "          await google.colab.output.renderOutput(dataTable, element);\n",
              "          const docLink = document.createElement('div');\n",
              "          docLink.innerHTML = docLinkHtml;\n",
              "          element.appendChild(docLink);\n",
              "        }\n",
              "      </script>\n",
              "    </div>\n",
              "  </div>\n",
              "  "
            ]
          },
          "metadata": {},
          "execution_count": 58
        }
      ]
    },
    {
      "cell_type": "code",
      "source": [
        "df = dfcalespbruto"
      ],
      "metadata": {
        "id": "d01dCJCkFya-"
      },
      "execution_count": null,
      "outputs": []
    },
    {
      "cell_type": "code",
      "source": [
        "df"
      ],
      "metadata": {
        "colab": {
          "base_uri": "https://localhost:8080/",
          "height": 624
        },
        "id": "7mbAVGIeGZTY",
        "outputId": "39c679f1-9ba0-4c76-90e2-95f36c9322ac"
      },
      "execution_count": null,
      "outputs": [
        {
          "output_type": "execute_result",
          "data": {
            "text/plain": [
              "                             _id   Ano  Matricula  Mes    Valor  \\\n",
              "0       640a42320de7247aecee0b34  2015     300257    3   200.00   \n",
              "1       640a42320de7247aecee0b35  2015     300257    3   295.40   \n",
              "2       640a42320de7247aecee0b36  2015     300257    3  2850.00   \n",
              "3       640a42320de7247aecee0b37  2015     300257    4   100.00   \n",
              "4       640a42320de7247aecee0b38  2015     300257    4   195.01   \n",
              "...                          ...   ...        ...  ...      ...   \n",
              "642390  640a438f0de7247aecf7d88a  2010     300446   11   950.00   \n",
              "642391  640a438f0de7247aecf7d88b  2010     300446   11   573.94   \n",
              "642392  640a438f0de7247aecf7d88c  2010     300446   11   524.84   \n",
              "642393  640a438f0de7247aecf7d88d  2010     300446   11  6500.00   \n",
              "642394  640a438f0de7247aecf7d88e  2010     300446   11  2650.00   \n",
              "\n",
              "                    CNPJ            Deputado  \\\n",
              "0         71806251000106  ABELARDO CAMARINHA   \n",
              "1         68064740000125  ABELARDO CAMARINHA   \n",
              "2            22145388877  ABELARDO CAMARINHA   \n",
              "3         10915883000113  ABELARDO CAMARINHA   \n",
              "4         71806251000106  ABELARDO CAMARINHA   \n",
              "...                  ...                 ...   \n",
              "642390      3001857820.0        CARLOS NEDER   \n",
              "642391  62268800000145.0        CARLOS NEDER   \n",
              "642392  43283811004309.0        CARLOS NEDER   \n",
              "642393   2447863000137.0        CARLOS NEDER   \n",
              "642394   9643129000192.0        CARLOS NEDER   \n",
              "\n",
              "                                                     Tipo  \\\n",
              "0                       A - COMBUSTÃVEIS E LUBRIFICANTES   \n",
              "1       E - MATERIAIS DE ESCRITÃRIO E OUTROS MATERIAI...   \n",
              "2                                             N - MORADIA   \n",
              "3                       A - COMBUSTÃVEIS E LUBRIFICANTES   \n",
              "4                       A - COMBUSTÃVEIS E LUBRIFICANTES   \n",
              "...                                                   ...   \n",
              "642390  B - LOCAÃÃO E MANUT DE BENS MÃVEIS E IMÃVE...   \n",
              "642391  B - LOCAÃÃO E MANUT DE BENS MÃVEIS E IMÃVE...   \n",
              "642392  E - MATERIAIS DE ESCRITÃRIO E OUTROS MATERIAI...   \n",
              "642393  F - SERVIÃOS TÃCNICOS PROFISSIONAIS (CONSULT...   \n",
              "642394  F - SERVIÃOS TÃCNICOS PROFISSIONAIS (CONSULT...   \n",
              "\n",
              "                                               Fornecedor  \n",
              "0                       AUTO POSTO DE SERVIÃOS MARV LTDA  \n",
              "1                               PAPER FACE COMERCIAL LTDA  \n",
              "2                               LARA SERVINO VARGAS ABREU  \n",
              "3                           CENTRO AUTOMOTIVO TOP 23 LTDA  \n",
              "4                       AUTO POSTO DE SERVIÃOS MARV LTDA  \n",
              "...                                                   ...  \n",
              "642390                      JOSÃ LUIZDE ANDRADE FEGUEIRA  \n",
              "642391                          COND.EDIF.VIADUTO JACAREI  \n",
              "642392          KALUNGA COMERCIO E INDUSTRIA GRAFICA LTDA  \n",
              "642393       AMARAL DOMINGOS NAKAZATO E SARTORI ADVOGADOS  \n",
              "642394  ABC COM - CONS E GEST. EM COM., MID. DIG. E NE...  \n",
              "\n",
              "[642395 rows x 9 columns]"
            ],
            "text/html": [
              "\n",
              "  <div id=\"df-864e14df-8e1d-4510-bb73-e32aee5b3775\">\n",
              "    <div class=\"colab-df-container\">\n",
              "      <div>\n",
              "<style scoped>\n",
              "    .dataframe tbody tr th:only-of-type {\n",
              "        vertical-align: middle;\n",
              "    }\n",
              "\n",
              "    .dataframe tbody tr th {\n",
              "        vertical-align: top;\n",
              "    }\n",
              "\n",
              "    .dataframe thead th {\n",
              "        text-align: right;\n",
              "    }\n",
              "</style>\n",
              "<table border=\"1\" class=\"dataframe\">\n",
              "  <thead>\n",
              "    <tr style=\"text-align: right;\">\n",
              "      <th></th>\n",
              "      <th>_id</th>\n",
              "      <th>Ano</th>\n",
              "      <th>Matricula</th>\n",
              "      <th>Mes</th>\n",
              "      <th>Valor</th>\n",
              "      <th>CNPJ</th>\n",
              "      <th>Deputado</th>\n",
              "      <th>Tipo</th>\n",
              "      <th>Fornecedor</th>\n",
              "    </tr>\n",
              "  </thead>\n",
              "  <tbody>\n",
              "    <tr>\n",
              "      <th>0</th>\n",
              "      <td>640a42320de7247aecee0b34</td>\n",
              "      <td>2015</td>\n",
              "      <td>300257</td>\n",
              "      <td>3</td>\n",
              "      <td>200.00</td>\n",
              "      <td>71806251000106</td>\n",
              "      <td>ABELARDO CAMARINHA</td>\n",
              "      <td>A - COMBUSTÃVEIS E LUBRIFICANTES</td>\n",
              "      <td>AUTO POSTO DE SERVIÃOS MARV LTDA</td>\n",
              "    </tr>\n",
              "    <tr>\n",
              "      <th>1</th>\n",
              "      <td>640a42320de7247aecee0b35</td>\n",
              "      <td>2015</td>\n",
              "      <td>300257</td>\n",
              "      <td>3</td>\n",
              "      <td>295.40</td>\n",
              "      <td>68064740000125</td>\n",
              "      <td>ABELARDO CAMARINHA</td>\n",
              "      <td>E - MATERIAIS DE ESCRITÃRIO E OUTROS MATERIAI...</td>\n",
              "      <td>PAPER FACE COMERCIAL LTDA</td>\n",
              "    </tr>\n",
              "    <tr>\n",
              "      <th>2</th>\n",
              "      <td>640a42320de7247aecee0b36</td>\n",
              "      <td>2015</td>\n",
              "      <td>300257</td>\n",
              "      <td>3</td>\n",
              "      <td>2850.00</td>\n",
              "      <td>22145388877</td>\n",
              "      <td>ABELARDO CAMARINHA</td>\n",
              "      <td>N - MORADIA</td>\n",
              "      <td>LARA SERVINO VARGAS ABREU</td>\n",
              "    </tr>\n",
              "    <tr>\n",
              "      <th>3</th>\n",
              "      <td>640a42320de7247aecee0b37</td>\n",
              "      <td>2015</td>\n",
              "      <td>300257</td>\n",
              "      <td>4</td>\n",
              "      <td>100.00</td>\n",
              "      <td>10915883000113</td>\n",
              "      <td>ABELARDO CAMARINHA</td>\n",
              "      <td>A - COMBUSTÃVEIS E LUBRIFICANTES</td>\n",
              "      <td>CENTRO AUTOMOTIVO TOP 23 LTDA</td>\n",
              "    </tr>\n",
              "    <tr>\n",
              "      <th>4</th>\n",
              "      <td>640a42320de7247aecee0b38</td>\n",
              "      <td>2015</td>\n",
              "      <td>300257</td>\n",
              "      <td>4</td>\n",
              "      <td>195.01</td>\n",
              "      <td>71806251000106</td>\n",
              "      <td>ABELARDO CAMARINHA</td>\n",
              "      <td>A - COMBUSTÃVEIS E LUBRIFICANTES</td>\n",
              "      <td>AUTO POSTO DE SERVIÃOS MARV LTDA</td>\n",
              "    </tr>\n",
              "    <tr>\n",
              "      <th>...</th>\n",
              "      <td>...</td>\n",
              "      <td>...</td>\n",
              "      <td>...</td>\n",
              "      <td>...</td>\n",
              "      <td>...</td>\n",
              "      <td>...</td>\n",
              "      <td>...</td>\n",
              "      <td>...</td>\n",
              "      <td>...</td>\n",
              "    </tr>\n",
              "    <tr>\n",
              "      <th>642390</th>\n",
              "      <td>640a438f0de7247aecf7d88a</td>\n",
              "      <td>2010</td>\n",
              "      <td>300446</td>\n",
              "      <td>11</td>\n",
              "      <td>950.00</td>\n",
              "      <td>3001857820.0</td>\n",
              "      <td>CARLOS NEDER</td>\n",
              "      <td>B - LOCAÃÃO E MANUT DE BENS MÃVEIS E IMÃVE...</td>\n",
              "      <td>JOSÃ LUIZDE ANDRADE FEGUEIRA</td>\n",
              "    </tr>\n",
              "    <tr>\n",
              "      <th>642391</th>\n",
              "      <td>640a438f0de7247aecf7d88b</td>\n",
              "      <td>2010</td>\n",
              "      <td>300446</td>\n",
              "      <td>11</td>\n",
              "      <td>573.94</td>\n",
              "      <td>62268800000145.0</td>\n",
              "      <td>CARLOS NEDER</td>\n",
              "      <td>B - LOCAÃÃO E MANUT DE BENS MÃVEIS E IMÃVE...</td>\n",
              "      <td>COND.EDIF.VIADUTO JACAREI</td>\n",
              "    </tr>\n",
              "    <tr>\n",
              "      <th>642392</th>\n",
              "      <td>640a438f0de7247aecf7d88c</td>\n",
              "      <td>2010</td>\n",
              "      <td>300446</td>\n",
              "      <td>11</td>\n",
              "      <td>524.84</td>\n",
              "      <td>43283811004309.0</td>\n",
              "      <td>CARLOS NEDER</td>\n",
              "      <td>E - MATERIAIS DE ESCRITÃRIO E OUTROS MATERIAI...</td>\n",
              "      <td>KALUNGA COMERCIO E INDUSTRIA GRAFICA LTDA</td>\n",
              "    </tr>\n",
              "    <tr>\n",
              "      <th>642393</th>\n",
              "      <td>640a438f0de7247aecf7d88d</td>\n",
              "      <td>2010</td>\n",
              "      <td>300446</td>\n",
              "      <td>11</td>\n",
              "      <td>6500.00</td>\n",
              "      <td>2447863000137.0</td>\n",
              "      <td>CARLOS NEDER</td>\n",
              "      <td>F - SERVIÃOS TÃCNICOS PROFISSIONAIS (CONSULT...</td>\n",
              "      <td>AMARAL DOMINGOS NAKAZATO E SARTORI ADVOGADOS</td>\n",
              "    </tr>\n",
              "    <tr>\n",
              "      <th>642394</th>\n",
              "      <td>640a438f0de7247aecf7d88e</td>\n",
              "      <td>2010</td>\n",
              "      <td>300446</td>\n",
              "      <td>11</td>\n",
              "      <td>2650.00</td>\n",
              "      <td>9643129000192.0</td>\n",
              "      <td>CARLOS NEDER</td>\n",
              "      <td>F - SERVIÃOS TÃCNICOS PROFISSIONAIS (CONSULT...</td>\n",
              "      <td>ABC COM - CONS E GEST. EM COM., MID. DIG. E NE...</td>\n",
              "    </tr>\n",
              "  </tbody>\n",
              "</table>\n",
              "<p>642395 rows × 9 columns</p>\n",
              "</div>\n",
              "      <button class=\"colab-df-convert\" onclick=\"convertToInteractive('df-864e14df-8e1d-4510-bb73-e32aee5b3775')\"\n",
              "              title=\"Convert this dataframe to an interactive table.\"\n",
              "              style=\"display:none;\">\n",
              "        \n",
              "  <svg xmlns=\"http://www.w3.org/2000/svg\" height=\"24px\"viewBox=\"0 0 24 24\"\n",
              "       width=\"24px\">\n",
              "    <path d=\"M0 0h24v24H0V0z\" fill=\"none\"/>\n",
              "    <path d=\"M18.56 5.44l.94 2.06.94-2.06 2.06-.94-2.06-.94-.94-2.06-.94 2.06-2.06.94zm-11 1L8.5 8.5l.94-2.06 2.06-.94-2.06-.94L8.5 2.5l-.94 2.06-2.06.94zm10 10l.94 2.06.94-2.06 2.06-.94-2.06-.94-.94-2.06-.94 2.06-2.06.94z\"/><path d=\"M17.41 7.96l-1.37-1.37c-.4-.4-.92-.59-1.43-.59-.52 0-1.04.2-1.43.59L10.3 9.45l-7.72 7.72c-.78.78-.78 2.05 0 2.83L4 21.41c.39.39.9.59 1.41.59.51 0 1.02-.2 1.41-.59l7.78-7.78 2.81-2.81c.8-.78.8-2.07 0-2.86zM5.41 20L4 18.59l7.72-7.72 1.47 1.35L5.41 20z\"/>\n",
              "  </svg>\n",
              "      </button>\n",
              "      \n",
              "  <style>\n",
              "    .colab-df-container {\n",
              "      display:flex;\n",
              "      flex-wrap:wrap;\n",
              "      gap: 12px;\n",
              "    }\n",
              "\n",
              "    .colab-df-convert {\n",
              "      background-color: #E8F0FE;\n",
              "      border: none;\n",
              "      border-radius: 50%;\n",
              "      cursor: pointer;\n",
              "      display: none;\n",
              "      fill: #1967D2;\n",
              "      height: 32px;\n",
              "      padding: 0 0 0 0;\n",
              "      width: 32px;\n",
              "    }\n",
              "\n",
              "    .colab-df-convert:hover {\n",
              "      background-color: #E2EBFA;\n",
              "      box-shadow: 0px 1px 2px rgba(60, 64, 67, 0.3), 0px 1px 3px 1px rgba(60, 64, 67, 0.15);\n",
              "      fill: #174EA6;\n",
              "    }\n",
              "\n",
              "    [theme=dark] .colab-df-convert {\n",
              "      background-color: #3B4455;\n",
              "      fill: #D2E3FC;\n",
              "    }\n",
              "\n",
              "    [theme=dark] .colab-df-convert:hover {\n",
              "      background-color: #434B5C;\n",
              "      box-shadow: 0px 1px 3px 1px rgba(0, 0, 0, 0.15);\n",
              "      filter: drop-shadow(0px 1px 2px rgba(0, 0, 0, 0.3));\n",
              "      fill: #FFFFFF;\n",
              "    }\n",
              "  </style>\n",
              "\n",
              "      <script>\n",
              "        const buttonEl =\n",
              "          document.querySelector('#df-864e14df-8e1d-4510-bb73-e32aee5b3775 button.colab-df-convert');\n",
              "        buttonEl.style.display =\n",
              "          google.colab.kernel.accessAllowed ? 'block' : 'none';\n",
              "\n",
              "        async function convertToInteractive(key) {\n",
              "          const element = document.querySelector('#df-864e14df-8e1d-4510-bb73-e32aee5b3775');\n",
              "          const dataTable =\n",
              "            await google.colab.kernel.invokeFunction('convertToInteractive',\n",
              "                                                     [key], {});\n",
              "          if (!dataTable) return;\n",
              "\n",
              "          const docLinkHtml = 'Like what you see? Visit the ' +\n",
              "            '<a target=\"_blank\" href=https://colab.research.google.com/notebooks/data_table.ipynb>data table notebook</a>'\n",
              "            + ' to learn more about interactive tables.';\n",
              "          element.innerHTML = '';\n",
              "          dataTable['output_type'] = 'display_data';\n",
              "          await google.colab.output.renderOutput(dataTable, element);\n",
              "          const docLink = document.createElement('div');\n",
              "          docLink.innerHTML = docLinkHtml;\n",
              "          element.appendChild(docLink);\n",
              "        }\n",
              "      </script>\n",
              "    </div>\n",
              "  </div>\n",
              "  "
            ]
          },
          "metadata": {},
          "execution_count": 59
        }
      ]
    },
    {
      "cell_type": "markdown",
      "source": [
        "## Tratando dados ALesp"
      ],
      "metadata": {
        "id": "487GWLf7FaSe"
      }
    },
    {
      "cell_type": "code",
      "source": [
        "df.loc[df.Tipo == 'A - COMBUSTÃ\\x8dVEIS E LUBRIFICANTES',['Tipo']] = 'A - COMBUSTIVEIS E LUBRIFICANTES'\n",
        "df.loc[df.Tipo == 'B - LOCAÃ\\x87Ã\\x83O E MANUT DE BENS MÃ\\x93VEIS E IMÃ\\x93VEIS, CONDOMÃ\\x8dNIOS E OUTROS',['Tipo']] = 'B - LOCAÇÃO E MANUTENÇÃO DE MÓVEIS E IMÓVEIS, CONDOMÍNIOS E OUTROS'\n",
        "df.loc[df.Tipo == 'C - MATERIAIS E SERVIÃ\\x87OS DE MANUT E CONSERV DE VEÃ\\x8dCULOS ; PEDÃ\\x81GIOS',['Tipo']] = 'C - MATERIAIS E SERVIÇOS DE MANUTENÇÃO E CONSERVAÇÃO DE VEÍCULOS E PEDÁGIOS'\n",
        "df.loc[df.Tipo == 'D - MATERIAIS E SERVIÃ\\x87OS GRÃ\\x81FICOS, DE CÃ\\x93PIAS  E REPRODUÃ\\x87Ã\\x83O DE DOCS',['Tipo']] = 'D - MATERIAIS E SERVIÇOS GRÁFICOS, DE CÓPIAS E REPRODUÇÃO DE DOCS'\n",
        "df.loc[df.Tipo == 'E - MATERIAIS DE ESCRITÃ\\x93RIO E OUTROS MATERIAIS DE CONSUMO',['Tipo']] = 'E - MATERIAIS DE ESCRITÓRIO E OUTROS MATERIAIS DE CONSUMO'\n",
        "df.loc[df.Tipo == 'F - SERVIÃ\\x87OS TÃ\\x89CNICOS PROFISSIONAIS (CONSULTORIA, PESQUISAS ETC)',['Tipo']] = 'F - SERVIÕS TÉCNICOS PROFISSIONAIS (CONSULTORIA, PESQUISAS ETC'\n",
        "df.loc[df.Tipo == 'G - ASSINATURAS DE PERIÃ\\x93DICOS, PUBLICAÃ\\x87Ã\\x95ES, INTERNET E SOFTWARES',['Tipo']] = 'G - ASSINATURAS DE PERIÓDICOS, PUBLICAÇÕES, INTERNET E SOFTWARES'\n",
        "df.loc[df.Tipo == 'H - SERV.UTIL.PÃ\\x9aBLICA (TELEF.MÃ\\x93VEL/FIXA, ENERGIA, Ã\\x81GUA, GÃ\\x81S ETC)',['Tipo']] = 'H - SERV.UTIL.PÚBLICA (TELEF.MÓVEL/FIXO, ENERGIA, ÁGUA, GÁS E INTERNET'\n",
        "df.loc[df.Tipo == 'I - HOSPEDAGEM, ALIMENTAÃ\\x87Ã\\x83O E DESPESAS DE LOCOMOÃ\\x87Ã\\x83O',['Tipo']] = 'I - HOSPEDAGEM, ALIMENTAÇÃO E DESPESAS DE LOCOMOÇÃO'\n",
        "df.loc[df.Tipo == 'J - SERVIÃ\\x87OS DE COMUNICAÃ\\x87Ã\\x83O',['Tipo']] = 'J - SERVIÇOS DE COMUNICAÇÃO'\n",
        "df.loc[df.Tipo == 'K - LOCAÃ\\x87Ã\\x83O DE BENS MÃ\\x93VEIS',['Tipo']] = 'K - LOCAÇÃO DE BENS MÓVEIS'\n",
        "df.loc[df.Tipo == 'L - LOCAÃ\\x87Ã\\x83O DE BENS IMÃ\\x93VEIS',['Tipo']] = 'L - LOCAÇÃO DE BENS IMÓVEIS'\n",
        "df.loc[df.Tipo == 'M - MANUTENÃ\\x87Ã\\x83O DE BENS MÃ\\x93VEIS,  IMÃ\\x93VEIS, CONDOMÃ\\x8dNIOS E OUTROS',['Tipo']] = 'M - MANUTENÇAÕ DE BENS MÓVEIS, IMÓVEIS, CONDOMÍNIOS E OUTROS'\n",
        "df.loc[df.Tipo == 'P - DIVULGAÃ\\x87Ã\\x83O DA ATIVIDADE PARLAMENTAR',['Tipo']] = 'P - DIVULGAÇÃO DE ATIVIDADE PARLAMENTAR'\n",
        "df.loc[df.Tipo == 'O - LOCAÃ\\x87Ã\\x83O DE VEÃ\\x8dCULO',['Tipo']] = 'O - LOCAÇÃO DE VEÍCULOS'\n",
        "df.loc[df.Tipo == 'F - SERVIÕS TÉCNICOS PROFISSIONAIS (CONSULTORIA, PESQUISAS ETC',['Tipo']] = 'F - SERVIÇOS TÉCNICOS PROFISSIONAIS (CONSULTORIA, PESQUISAS ETC'\n",
        "\n"
      ],
      "metadata": {
        "id": "jOYBXBKDFcgx"
      },
      "execution_count": null,
      "outputs": []
    },
    {
      "cell_type": "code",
      "source": [
        "dfcalespbruto = df"
      ],
      "metadata": {
        "id": "9vSH0KLrGhOG"
      },
      "execution_count": null,
      "outputs": []
    },
    {
      "cell_type": "code",
      "source": [
        "dfcalespbruto"
      ],
      "metadata": {
        "id": "sjUstj9hG4Rl"
      },
      "execution_count": null,
      "outputs": []
    },
    {
      "cell_type": "code",
      "source": [
        "correcoes = {\n",
        "    'VIVO':'VIVO S.A.',\n",
        "    'TELEFONICA BRASIL S.A':'TELEFONICA BRASIL S.A.',\n",
        "    'NEXTEL TELECOMUNICAÇÕES LTDA':'NEXTEL TELECOMUNICAÇÕES LTDA.',\n",
        "    'SABESP':'COMPANHIA DE SANEAMENTO BÁSICO DO ESTADO DE SÃO PAULO - SABESP',\n",
        "    'TELEFÔNICA BRASIL S.A.':'TELEFONICA BRASIL S.A.',\n",
        "    'TELEFONICA': 'TELEFONICA BRASIL S.A.',\n",
        "    'COMPANHIA PAULISTA DE FORÇA E LUZ':'CPFL ENERGIA',\n",
        "    'TELEFONICA BRASIL S/A':'TELEFONICA BRASIL S.A.',\n",
        "    'TELEFONICA BRASIL SA':'TELEFONICA BRASIL S.A.',\n",
        "    'CLARO S.A.':'CLARO S/A',\n",
        "    'ELETROPAULO METROPOLITANA ELETRICIDADE DE SÃO PAULO S.A.':'ELETROPAULO',\n",
        "    'ELETROPAULO':'AES ELETROPAULO',\n",
        "    'CLARO S.A':'CLARO S/A',\n",
        "    'NEXTEL TELECOMUNICAÇÕES LTDA.':'NEXTEL TELECOMUNICAÇÕES LTDA',\n",
        "    'NET':'NET SERVIÇOS DE COMUNICAÇÃO S/A',\n",
        "    'TELEFÔNICA BRASIL S.A':'TELEFONICA BRASIL S.A.',\n",
        "    'KALUNGA':'KALUNGA COM. E IND. GRÁFICA LTDA.',\n",
        "    'KALUNGA COMERCIO E IND. GRAFICA LTDA':'KALUNGA COM. E IND. GRÁFICA LTDA.',\n",
        "    'NEXTEL':'NEXTEL TELECOMUNICAÇÕES LTDA',\n",
        "    'KALUNGA COM. E IND. GRAFICA LTDA':'KALUNGA COM. E IND. GRÁFICA LTDA.',\n",
        "    'TELEFÔNICA BRASIL S/A':'TELEFONICA BRASIL S.A.',\n",
        "    'TELESP CELULAR':'TELESP CELULAR S/A',\n",
        "    'TELEFÃNICA BRASIL S.A.':'TELEFONICA BRASIL S.A.',\n",
        "    'TELEFÃNICA BRASIL S.A': 'TELEFONICA BRASIL S.A.',\n",
        "    'TELEFÃNICA BRASIL S/A':'TELEFONICA BRASIL S.A.',\n",
        "    'TELEFÃNICA':'TELEFONICA BRASIL S.A.',\n",
        "    'TELEFÃNICA BRASIL S.A':'TELEFONICA BRASIL S.A.',\n",
        "    'TELEFONICA BRASIL  S/A':'TELEFONICA BRASIL S.A.',\n",
        "    'TELEFONICA BRASIL':'TELEFONICA BRASIL S.A.',\n",
        "    'TELEFONICA BRASIL S/A':'TELEFONICA BRASIL S.A.',\n",
        "    'TELEFONICA BRASIL S/A.':'TELEFONICA BRASIL S.A.'\n",
        "}\n",
        "\n",
        "for key, value in correcoes.items():\n",
        "  dfcalespbruto.loc[dfcalespbruto.Fornecedor==key,'Fornecedor'] = value\n",
        "\n",
        "\n",
        ""
      ],
      "metadata": {
        "id": "lYN1qlbqG9a0"
      },
      "execution_count": null,
      "outputs": []
    },
    {
      "cell_type": "code",
      "source": [
        "dfcalespbruto"
      ],
      "metadata": {
        "id": "NncAZ-zrHmHB"
      },
      "execution_count": null,
      "outputs": []
    },
    {
      "cell_type": "markdown",
      "source": [
        "##Alesp Vira coleção Alesp-Tratados"
      ],
      "metadata": {
        "id": "lPTPNPTkH6LQ"
      }
    },
    {
      "cell_type": "code",
      "source": [
        "db3 = client['tarefa']\n",
        "colecaoalesptratado = db3['Alesp-Tratados']\n",
        "colecaoalesptratado.count_documents({})"
      ],
      "metadata": {
        "colab": {
          "base_uri": "https://localhost:8080/"
        },
        "outputId": "76c1b2c7-9b7d-43af-8fa9-3c6551dcdd11",
        "id": "khYpdQVmH6LQ"
      },
      "execution_count": null,
      "outputs": [
        {
          "output_type": "execute_result",
          "data": {
            "text/plain": [
              "0"
            ]
          },
          "metadata": {},
          "execution_count": 72
        }
      ]
    },
    {
      "cell_type": "code",
      "source": [
        "dfcalespbruto_dict = dfcalespbruto.to_dict(\"records\")\n",
        "colecaoalesptratado.insert_many(dfcalespbruto_dict)"
      ],
      "metadata": {
        "colab": {
          "base_uri": "https://localhost:8080/"
        },
        "outputId": "1751fd02-88c7-4d37-c1dd-73a8f017c67f",
        "id": "cFEljX6hH6LR"
      },
      "execution_count": null,
      "outputs": [
        {
          "output_type": "execute_result",
          "data": {
            "text/plain": [
              "<pymongo.results.InsertManyResult at 0x7fcca3f6fcd0>"
            ]
          },
          "metadata": {},
          "execution_count": 73
        }
      ]
    },
    {
      "cell_type": "code",
      "source": [
        "# Contagem de linhas deve ter sempre o numero de linhas do shape tem que ser exato validação\n",
        "colecaoalesptratado.count_documents({})"
      ],
      "metadata": {
        "colab": {
          "base_uri": "https://localhost:8080/"
        },
        "outputId": "6de417fe-3891-49c2-e621-6b683fe85c52",
        "id": "UAEVoUuGH6LR"
      },
      "execution_count": null,
      "outputs": [
        {
          "output_type": "execute_result",
          "data": {
            "text/plain": [
              "6769"
            ]
          },
          "metadata": {},
          "execution_count": 70
        }
      ]
    },
    {
      "cell_type": "markdown",
      "source": [
        "# 3º Df - AirBnB - Amsterdam.csv"
      ],
      "metadata": {
        "id": "e1q5W1NaoTL1"
      }
    },
    {
      "cell_type": "markdown",
      "source": [
        "##Incluindo o arquivo CSV"
      ],
      "metadata": {
        "id": "7_gQeDAsqaaJ"
      }
    },
    {
      "cell_type": "code",
      "source": [
        "path = '/content/amsterdam_weekdays.csv'"
      ],
      "metadata": {
        "id": "94LNIMoLqaaK"
      },
      "execution_count": null,
      "outputs": []
    },
    {
      "cell_type": "code",
      "source": [
        "## Ler o arquivo csv\n",
        "df3 = pd.read_csv(path,sep=',',encoding='ISO-8859-1')"
      ],
      "metadata": {
        "id": "3Fro63p9qaaK"
      },
      "execution_count": null,
      "outputs": []
    },
    {
      "cell_type": "code",
      "source": [
        "df3.shape"
      ],
      "metadata": {
        "colab": {
          "base_uri": "https://localhost:8080/"
        },
        "outputId": "6fabfb52-87d8-484f-dd97-289f927420fd",
        "id": "IQK5Ds2eqaaL"
      },
      "execution_count": null,
      "outputs": [
        {
          "output_type": "execute_result",
          "data": {
            "text/plain": [
              "(1103, 20)"
            ]
          },
          "metadata": {},
          "execution_count": 22
        }
      ]
    },
    {
      "cell_type": "code",
      "source": [
        "df3"
      ],
      "metadata": {
        "colab": {
          "base_uri": "https://localhost:8080/"
        },
        "id": "n8uLCqKQqaaL",
        "outputId": "42f5b405-0cc9-4bfd-a87c-7986b4ab06dc"
      },
      "execution_count": null,
      "outputs": [
        {
          "output_type": "execute_result",
          "data": {
            "text/plain": [
              "      Unnamed: 0      realSum        room_type  room_shared  room_private  \\\n",
              "0              0   194.033698     Private room        False          True   \n",
              "1              1   344.245776     Private room        False          True   \n",
              "2              2   264.101422     Private room        False          True   \n",
              "3              3   433.529398     Private room        False          True   \n",
              "4              4   485.552926     Private room        False          True   \n",
              "...          ...          ...              ...          ...           ...   \n",
              "1098        1098  2486.115342  Entire home/apt        False         False   \n",
              "1099        1099   233.637194     Private room        False          True   \n",
              "1100        1100   317.062311     Private room        False          True   \n",
              "1101        1101  1812.855904  Entire home/apt        False         False   \n",
              "1102        1102   258.008577      Shared room         True         False   \n",
              "\n",
              "      person_capacity  host_is_superhost  multi  biz  cleanliness_rating  \\\n",
              "0                 2.0              False      1    0                10.0   \n",
              "1                 4.0              False      0    0                 8.0   \n",
              "2                 2.0              False      0    1                 9.0   \n",
              "3                 4.0              False      0    1                 9.0   \n",
              "4                 2.0               True      0    0                10.0   \n",
              "...               ...                ...    ...  ...                 ...   \n",
              "1098              2.0              False      0    0                10.0   \n",
              "1099              2.0              False      1    0                10.0   \n",
              "1100              2.0              False      1    0                10.0   \n",
              "1101              4.0              False      0    0                 8.0   \n",
              "1102              2.0              False      0    0                 8.0   \n",
              "\n",
              "      guest_satisfaction_overall  bedrooms      dist  metro_dist  attr_index  \\\n",
              "0                           93.0         1  5.022964    2.539380   78.690379   \n",
              "1                           85.0         1  0.488389    0.239404  631.176378   \n",
              "2                           87.0         1  5.748312    3.651621   75.275877   \n",
              "3                           90.0         2  0.384862    0.439876  493.272534   \n",
              "4                           98.0         1  0.544738    0.318693  552.830324   \n",
              "...                          ...       ...       ...         ...         ...   \n",
              "1098                       100.0         1  2.375833    1.436054  181.198355   \n",
              "1099                        90.0         1  4.719736    0.322263  108.024880   \n",
              "1100                        92.0         1  0.598355    0.751993  440.476515   \n",
              "1101                        84.0         5  1.943020    0.388532  257.948105   \n",
              "1102                        90.0         1  0.280204    0.516217  533.962653   \n",
              "\n",
              "      attr_index_norm  rest_index  rest_index_norm      lng       lat  \n",
              "0            4.166708   98.253896         6.846473  4.90569  52.41772  \n",
              "1           33.421209  837.280757        58.342928  4.90005  52.37432  \n",
              "2            3.985908   95.386955         6.646700  4.97512  52.36103  \n",
              "3           26.119108  875.033098        60.973565  4.89417  52.37663  \n",
              "4           29.272733  815.305740        56.811677  4.90051  52.37508  \n",
              "...               ...         ...              ...      ...       ...  \n",
              "1098         9.594573  225.304203        15.699521  4.85869  52.37677  \n",
              "1099         5.719989  134.775277         9.391335  4.83611  52.34910  \n",
              "1100        23.323524  625.947562        43.616927  4.88897  52.37798  \n",
              "1101        13.658524  336.589237        23.454022  4.90688  52.35794  \n",
              "1102        28.273677  807.492307        56.267226  4.89295  52.37575  \n",
              "\n",
              "[1103 rows x 20 columns]"
            ],
            "text/html": [
              "\n",
              "  <div id=\"df-339a1373-5def-4072-9199-ddef2fc349b1\">\n",
              "    <div class=\"colab-df-container\">\n",
              "      <div>\n",
              "<style scoped>\n",
              "    .dataframe tbody tr th:only-of-type {\n",
              "        vertical-align: middle;\n",
              "    }\n",
              "\n",
              "    .dataframe tbody tr th {\n",
              "        vertical-align: top;\n",
              "    }\n",
              "\n",
              "    .dataframe thead th {\n",
              "        text-align: right;\n",
              "    }\n",
              "</style>\n",
              "<table border=\"1\" class=\"dataframe\">\n",
              "  <thead>\n",
              "    <tr style=\"text-align: right;\">\n",
              "      <th></th>\n",
              "      <th>Unnamed: 0</th>\n",
              "      <th>realSum</th>\n",
              "      <th>room_type</th>\n",
              "      <th>room_shared</th>\n",
              "      <th>room_private</th>\n",
              "      <th>person_capacity</th>\n",
              "      <th>host_is_superhost</th>\n",
              "      <th>multi</th>\n",
              "      <th>biz</th>\n",
              "      <th>cleanliness_rating</th>\n",
              "      <th>guest_satisfaction_overall</th>\n",
              "      <th>bedrooms</th>\n",
              "      <th>dist</th>\n",
              "      <th>metro_dist</th>\n",
              "      <th>attr_index</th>\n",
              "      <th>attr_index_norm</th>\n",
              "      <th>rest_index</th>\n",
              "      <th>rest_index_norm</th>\n",
              "      <th>lng</th>\n",
              "      <th>lat</th>\n",
              "    </tr>\n",
              "  </thead>\n",
              "  <tbody>\n",
              "    <tr>\n",
              "      <th>0</th>\n",
              "      <td>0</td>\n",
              "      <td>194.033698</td>\n",
              "      <td>Private room</td>\n",
              "      <td>False</td>\n",
              "      <td>True</td>\n",
              "      <td>2.0</td>\n",
              "      <td>False</td>\n",
              "      <td>1</td>\n",
              "      <td>0</td>\n",
              "      <td>10.0</td>\n",
              "      <td>93.0</td>\n",
              "      <td>1</td>\n",
              "      <td>5.022964</td>\n",
              "      <td>2.539380</td>\n",
              "      <td>78.690379</td>\n",
              "      <td>4.166708</td>\n",
              "      <td>98.253896</td>\n",
              "      <td>6.846473</td>\n",
              "      <td>4.90569</td>\n",
              "      <td>52.41772</td>\n",
              "    </tr>\n",
              "    <tr>\n",
              "      <th>1</th>\n",
              "      <td>1</td>\n",
              "      <td>344.245776</td>\n",
              "      <td>Private room</td>\n",
              "      <td>False</td>\n",
              "      <td>True</td>\n",
              "      <td>4.0</td>\n",
              "      <td>False</td>\n",
              "      <td>0</td>\n",
              "      <td>0</td>\n",
              "      <td>8.0</td>\n",
              "      <td>85.0</td>\n",
              "      <td>1</td>\n",
              "      <td>0.488389</td>\n",
              "      <td>0.239404</td>\n",
              "      <td>631.176378</td>\n",
              "      <td>33.421209</td>\n",
              "      <td>837.280757</td>\n",
              "      <td>58.342928</td>\n",
              "      <td>4.90005</td>\n",
              "      <td>52.37432</td>\n",
              "    </tr>\n",
              "    <tr>\n",
              "      <th>2</th>\n",
              "      <td>2</td>\n",
              "      <td>264.101422</td>\n",
              "      <td>Private room</td>\n",
              "      <td>False</td>\n",
              "      <td>True</td>\n",
              "      <td>2.0</td>\n",
              "      <td>False</td>\n",
              "      <td>0</td>\n",
              "      <td>1</td>\n",
              "      <td>9.0</td>\n",
              "      <td>87.0</td>\n",
              "      <td>1</td>\n",
              "      <td>5.748312</td>\n",
              "      <td>3.651621</td>\n",
              "      <td>75.275877</td>\n",
              "      <td>3.985908</td>\n",
              "      <td>95.386955</td>\n",
              "      <td>6.646700</td>\n",
              "      <td>4.97512</td>\n",
              "      <td>52.36103</td>\n",
              "    </tr>\n",
              "    <tr>\n",
              "      <th>3</th>\n",
              "      <td>3</td>\n",
              "      <td>433.529398</td>\n",
              "      <td>Private room</td>\n",
              "      <td>False</td>\n",
              "      <td>True</td>\n",
              "      <td>4.0</td>\n",
              "      <td>False</td>\n",
              "      <td>0</td>\n",
              "      <td>1</td>\n",
              "      <td>9.0</td>\n",
              "      <td>90.0</td>\n",
              "      <td>2</td>\n",
              "      <td>0.384862</td>\n",
              "      <td>0.439876</td>\n",
              "      <td>493.272534</td>\n",
              "      <td>26.119108</td>\n",
              "      <td>875.033098</td>\n",
              "      <td>60.973565</td>\n",
              "      <td>4.89417</td>\n",
              "      <td>52.37663</td>\n",
              "    </tr>\n",
              "    <tr>\n",
              "      <th>4</th>\n",
              "      <td>4</td>\n",
              "      <td>485.552926</td>\n",
              "      <td>Private room</td>\n",
              "      <td>False</td>\n",
              "      <td>True</td>\n",
              "      <td>2.0</td>\n",
              "      <td>True</td>\n",
              "      <td>0</td>\n",
              "      <td>0</td>\n",
              "      <td>10.0</td>\n",
              "      <td>98.0</td>\n",
              "      <td>1</td>\n",
              "      <td>0.544738</td>\n",
              "      <td>0.318693</td>\n",
              "      <td>552.830324</td>\n",
              "      <td>29.272733</td>\n",
              "      <td>815.305740</td>\n",
              "      <td>56.811677</td>\n",
              "      <td>4.90051</td>\n",
              "      <td>52.37508</td>\n",
              "    </tr>\n",
              "    <tr>\n",
              "      <th>...</th>\n",
              "      <td>...</td>\n",
              "      <td>...</td>\n",
              "      <td>...</td>\n",
              "      <td>...</td>\n",
              "      <td>...</td>\n",
              "      <td>...</td>\n",
              "      <td>...</td>\n",
              "      <td>...</td>\n",
              "      <td>...</td>\n",
              "      <td>...</td>\n",
              "      <td>...</td>\n",
              "      <td>...</td>\n",
              "      <td>...</td>\n",
              "      <td>...</td>\n",
              "      <td>...</td>\n",
              "      <td>...</td>\n",
              "      <td>...</td>\n",
              "      <td>...</td>\n",
              "      <td>...</td>\n",
              "      <td>...</td>\n",
              "    </tr>\n",
              "    <tr>\n",
              "      <th>1098</th>\n",
              "      <td>1098</td>\n",
              "      <td>2486.115342</td>\n",
              "      <td>Entire home/apt</td>\n",
              "      <td>False</td>\n",
              "      <td>False</td>\n",
              "      <td>2.0</td>\n",
              "      <td>False</td>\n",
              "      <td>0</td>\n",
              "      <td>0</td>\n",
              "      <td>10.0</td>\n",
              "      <td>100.0</td>\n",
              "      <td>1</td>\n",
              "      <td>2.375833</td>\n",
              "      <td>1.436054</td>\n",
              "      <td>181.198355</td>\n",
              "      <td>9.594573</td>\n",
              "      <td>225.304203</td>\n",
              "      <td>15.699521</td>\n",
              "      <td>4.85869</td>\n",
              "      <td>52.37677</td>\n",
              "    </tr>\n",
              "    <tr>\n",
              "      <th>1099</th>\n",
              "      <td>1099</td>\n",
              "      <td>233.637194</td>\n",
              "      <td>Private room</td>\n",
              "      <td>False</td>\n",
              "      <td>True</td>\n",
              "      <td>2.0</td>\n",
              "      <td>False</td>\n",
              "      <td>1</td>\n",
              "      <td>0</td>\n",
              "      <td>10.0</td>\n",
              "      <td>90.0</td>\n",
              "      <td>1</td>\n",
              "      <td>4.719736</td>\n",
              "      <td>0.322263</td>\n",
              "      <td>108.024880</td>\n",
              "      <td>5.719989</td>\n",
              "      <td>134.775277</td>\n",
              "      <td>9.391335</td>\n",
              "      <td>4.83611</td>\n",
              "      <td>52.34910</td>\n",
              "    </tr>\n",
              "    <tr>\n",
              "      <th>1100</th>\n",
              "      <td>1100</td>\n",
              "      <td>317.062311</td>\n",
              "      <td>Private room</td>\n",
              "      <td>False</td>\n",
              "      <td>True</td>\n",
              "      <td>2.0</td>\n",
              "      <td>False</td>\n",
              "      <td>1</td>\n",
              "      <td>0</td>\n",
              "      <td>10.0</td>\n",
              "      <td>92.0</td>\n",
              "      <td>1</td>\n",
              "      <td>0.598355</td>\n",
              "      <td>0.751993</td>\n",
              "      <td>440.476515</td>\n",
              "      <td>23.323524</td>\n",
              "      <td>625.947562</td>\n",
              "      <td>43.616927</td>\n",
              "      <td>4.88897</td>\n",
              "      <td>52.37798</td>\n",
              "    </tr>\n",
              "    <tr>\n",
              "      <th>1101</th>\n",
              "      <td>1101</td>\n",
              "      <td>1812.855904</td>\n",
              "      <td>Entire home/apt</td>\n",
              "      <td>False</td>\n",
              "      <td>False</td>\n",
              "      <td>4.0</td>\n",
              "      <td>False</td>\n",
              "      <td>0</td>\n",
              "      <td>0</td>\n",
              "      <td>8.0</td>\n",
              "      <td>84.0</td>\n",
              "      <td>5</td>\n",
              "      <td>1.943020</td>\n",
              "      <td>0.388532</td>\n",
              "      <td>257.948105</td>\n",
              "      <td>13.658524</td>\n",
              "      <td>336.589237</td>\n",
              "      <td>23.454022</td>\n",
              "      <td>4.90688</td>\n",
              "      <td>52.35794</td>\n",
              "    </tr>\n",
              "    <tr>\n",
              "      <th>1102</th>\n",
              "      <td>1102</td>\n",
              "      <td>258.008577</td>\n",
              "      <td>Shared room</td>\n",
              "      <td>True</td>\n",
              "      <td>False</td>\n",
              "      <td>2.0</td>\n",
              "      <td>False</td>\n",
              "      <td>0</td>\n",
              "      <td>0</td>\n",
              "      <td>8.0</td>\n",
              "      <td>90.0</td>\n",
              "      <td>1</td>\n",
              "      <td>0.280204</td>\n",
              "      <td>0.516217</td>\n",
              "      <td>533.962653</td>\n",
              "      <td>28.273677</td>\n",
              "      <td>807.492307</td>\n",
              "      <td>56.267226</td>\n",
              "      <td>4.89295</td>\n",
              "      <td>52.37575</td>\n",
              "    </tr>\n",
              "  </tbody>\n",
              "</table>\n",
              "<p>1103 rows × 20 columns</p>\n",
              "</div>\n",
              "      <button class=\"colab-df-convert\" onclick=\"convertToInteractive('df-339a1373-5def-4072-9199-ddef2fc349b1')\"\n",
              "              title=\"Convert this dataframe to an interactive table.\"\n",
              "              style=\"display:none;\">\n",
              "        \n",
              "  <svg xmlns=\"http://www.w3.org/2000/svg\" height=\"24px\"viewBox=\"0 0 24 24\"\n",
              "       width=\"24px\">\n",
              "    <path d=\"M0 0h24v24H0V0z\" fill=\"none\"/>\n",
              "    <path d=\"M18.56 5.44l.94 2.06.94-2.06 2.06-.94-2.06-.94-.94-2.06-.94 2.06-2.06.94zm-11 1L8.5 8.5l.94-2.06 2.06-.94-2.06-.94L8.5 2.5l-.94 2.06-2.06.94zm10 10l.94 2.06.94-2.06 2.06-.94-2.06-.94-.94-2.06-.94 2.06-2.06.94z\"/><path d=\"M17.41 7.96l-1.37-1.37c-.4-.4-.92-.59-1.43-.59-.52 0-1.04.2-1.43.59L10.3 9.45l-7.72 7.72c-.78.78-.78 2.05 0 2.83L4 21.41c.39.39.9.59 1.41.59.51 0 1.02-.2 1.41-.59l7.78-7.78 2.81-2.81c.8-.78.8-2.07 0-2.86zM5.41 20L4 18.59l7.72-7.72 1.47 1.35L5.41 20z\"/>\n",
              "  </svg>\n",
              "      </button>\n",
              "      \n",
              "  <style>\n",
              "    .colab-df-container {\n",
              "      display:flex;\n",
              "      flex-wrap:wrap;\n",
              "      gap: 12px;\n",
              "    }\n",
              "\n",
              "    .colab-df-convert {\n",
              "      background-color: #E8F0FE;\n",
              "      border: none;\n",
              "      border-radius: 50%;\n",
              "      cursor: pointer;\n",
              "      display: none;\n",
              "      fill: #1967D2;\n",
              "      height: 32px;\n",
              "      padding: 0 0 0 0;\n",
              "      width: 32px;\n",
              "    }\n",
              "\n",
              "    .colab-df-convert:hover {\n",
              "      background-color: #E2EBFA;\n",
              "      box-shadow: 0px 1px 2px rgba(60, 64, 67, 0.3), 0px 1px 3px 1px rgba(60, 64, 67, 0.15);\n",
              "      fill: #174EA6;\n",
              "    }\n",
              "\n",
              "    [theme=dark] .colab-df-convert {\n",
              "      background-color: #3B4455;\n",
              "      fill: #D2E3FC;\n",
              "    }\n",
              "\n",
              "    [theme=dark] .colab-df-convert:hover {\n",
              "      background-color: #434B5C;\n",
              "      box-shadow: 0px 1px 3px 1px rgba(0, 0, 0, 0.15);\n",
              "      filter: drop-shadow(0px 1px 2px rgba(0, 0, 0, 0.3));\n",
              "      fill: #FFFFFF;\n",
              "    }\n",
              "  </style>\n",
              "\n",
              "      <script>\n",
              "        const buttonEl =\n",
              "          document.querySelector('#df-339a1373-5def-4072-9199-ddef2fc349b1 button.colab-df-convert');\n",
              "        buttonEl.style.display =\n",
              "          google.colab.kernel.accessAllowed ? 'block' : 'none';\n",
              "\n",
              "        async function convertToInteractive(key) {\n",
              "          const element = document.querySelector('#df-339a1373-5def-4072-9199-ddef2fc349b1');\n",
              "          const dataTable =\n",
              "            await google.colab.kernel.invokeFunction('convertToInteractive',\n",
              "                                                     [key], {});\n",
              "          if (!dataTable) return;\n",
              "\n",
              "          const docLinkHtml = 'Like what you see? Visit the ' +\n",
              "            '<a target=\"_blank\" href=https://colab.research.google.com/notebooks/data_table.ipynb>data table notebook</a>'\n",
              "            + ' to learn more about interactive tables.';\n",
              "          element.innerHTML = '';\n",
              "          dataTable['output_type'] = 'display_data';\n",
              "          await google.colab.output.renderOutput(dataTable, element);\n",
              "          const docLink = document.createElement('div');\n",
              "          docLink.innerHTML = docLinkHtml;\n",
              "          element.appendChild(docLink);\n",
              "        }\n",
              "      </script>\n",
              "    </div>\n",
              "  </div>\n",
              "  "
            ]
          },
          "metadata": {},
          "execution_count": 23
        }
      ]
    },
    {
      "cell_type": "markdown",
      "source": [
        "##Enviando ao Mongo"
      ],
      "metadata": {
        "id": "rDGI00-Mq4Kj"
      }
    },
    {
      "cell_type": "code",
      "source": [
        "db3 = client['tarefa']\n",
        "colecaoairbnbbruto = db3['AirBnB-brutos']\n",
        "colecaoairbnbbruto.count_documents({})"
      ],
      "metadata": {
        "colab": {
          "base_uri": "https://localhost:8080/"
        },
        "outputId": "2d9ac2a3-8b9d-48b2-a16f-46789872e92a",
        "id": "2gIjp77Aq4Kk"
      },
      "execution_count": null,
      "outputs": [
        {
          "output_type": "execute_result",
          "data": {
            "text/plain": [
              "0"
            ]
          },
          "metadata": {},
          "execution_count": 27
        }
      ]
    },
    {
      "cell_type": "code",
      "source": [
        "# Transforma em dicionario com listas\n",
        "df3_dict = df3.to_dict(\"records\")\n",
        "colecaoairbnbbruto.insert_many(df3_dict)"
      ],
      "metadata": {
        "colab": {
          "base_uri": "https://localhost:8080/"
        },
        "id": "Y22MGcgdq4Kl",
        "outputId": "022623d6-0f6c-42f7-cab6-ab3a066439d4"
      },
      "execution_count": null,
      "outputs": [
        {
          "output_type": "execute_result",
          "data": {
            "text/plain": [
              "<pymongo.results.InsertManyResult at 0x7fd5cd6e2700>"
            ]
          },
          "metadata": {},
          "execution_count": 28
        }
      ]
    },
    {
      "cell_type": "code",
      "source": [
        "# Contagem de linhas deve ter sempre o numero de linhas do shape tem que ser exato validação\n",
        "colecaoairbnbbruto.count_documents({})"
      ],
      "metadata": {
        "colab": {
          "base_uri": "https://localhost:8080/"
        },
        "outputId": "4f1e25aa-0ec8-4057-d342-4f74e63ac77d",
        "id": "AGBss276q4Kl"
      },
      "execution_count": null,
      "outputs": [
        {
          "output_type": "execute_result",
          "data": {
            "text/plain": [
              "1103"
            ]
          },
          "metadata": {},
          "execution_count": 29
        }
      ]
    },
    {
      "cell_type": "markdown",
      "source": [
        "##Trazendo de volta para o df"
      ],
      "metadata": {
        "id": "9q4JMovarBhb"
      }
    },
    {
      "cell_type": "code",
      "source": [
        "# Trazer o dado tratado no colab de volta\n",
        "cursor = colecaoairbnbbruto.find({})\n",
        "dfairbnbbruto = pd.DataFrame(list(cursor))"
      ],
      "metadata": {
        "id": "PkVnfE2erBhc"
      },
      "execution_count": null,
      "outputs": []
    },
    {
      "cell_type": "code",
      "source": [
        "dfairbnbbruto"
      ],
      "metadata": {
        "colab": {
          "base_uri": "https://localhost:8080/",
          "height": 679
        },
        "outputId": "8cc98187-d86d-44f1-b12c-2a806bb690d5",
        "id": "zB2SGUnhrBhc"
      },
      "execution_count": null,
      "outputs": [
        {
          "output_type": "execute_result",
          "data": {
            "text/plain": [
              "                           _id  Unnamed: 0      realSum        room_type  \\\n",
              "0     640a6b80d7ce83fa60f5a491           0   194.033698     Private room   \n",
              "1     640a6b80d7ce83fa60f5a492           1   344.245776     Private room   \n",
              "2     640a6b80d7ce83fa60f5a493           2   264.101422     Private room   \n",
              "3     640a6b80d7ce83fa60f5a494           3   433.529398     Private room   \n",
              "4     640a6b80d7ce83fa60f5a495           4   485.552926     Private room   \n",
              "...                        ...         ...          ...              ...   \n",
              "1098  640a6b80d7ce83fa60f5a8db        1098  2486.115342  Entire home/apt   \n",
              "1099  640a6b80d7ce83fa60f5a8dc        1099   233.637194     Private room   \n",
              "1100  640a6b80d7ce83fa60f5a8dd        1100   317.062311     Private room   \n",
              "1101  640a6b80d7ce83fa60f5a8de        1101  1812.855904  Entire home/apt   \n",
              "1102  640a6b80d7ce83fa60f5a8df        1102   258.008577      Shared room   \n",
              "\n",
              "      room_shared  room_private  person_capacity  host_is_superhost  multi  \\\n",
              "0           False          True              2.0              False      1   \n",
              "1           False          True              4.0              False      0   \n",
              "2           False          True              2.0              False      0   \n",
              "3           False          True              4.0              False      0   \n",
              "4           False          True              2.0               True      0   \n",
              "...           ...           ...              ...                ...    ...   \n",
              "1098        False         False              2.0              False      0   \n",
              "1099        False          True              2.0              False      1   \n",
              "1100        False          True              2.0              False      1   \n",
              "1101        False         False              4.0              False      0   \n",
              "1102         True         False              2.0              False      0   \n",
              "\n",
              "      biz  ...  guest_satisfaction_overall  bedrooms      dist  metro_dist  \\\n",
              "0       0  ...                        93.0         1  5.022964    2.539380   \n",
              "1       0  ...                        85.0         1  0.488389    0.239404   \n",
              "2       1  ...                        87.0         1  5.748312    3.651621   \n",
              "3       1  ...                        90.0         2  0.384862    0.439876   \n",
              "4       0  ...                        98.0         1  0.544738    0.318693   \n",
              "...   ...  ...                         ...       ...       ...         ...   \n",
              "1098    0  ...                       100.0         1  2.375833    1.436054   \n",
              "1099    0  ...                        90.0         1  4.719736    0.322263   \n",
              "1100    0  ...                        92.0         1  0.598355    0.751993   \n",
              "1101    0  ...                        84.0         5  1.943020    0.388532   \n",
              "1102    0  ...                        90.0         1  0.280204    0.516217   \n",
              "\n",
              "      attr_index  attr_index_norm  rest_index  rest_index_norm      lng  \\\n",
              "0      78.690379         4.166708   98.253896         6.846473  4.90569   \n",
              "1     631.176378        33.421209  837.280757        58.342928  4.90005   \n",
              "2      75.275877         3.985908   95.386955         6.646700  4.97512   \n",
              "3     493.272534        26.119108  875.033098        60.973565  4.89417   \n",
              "4     552.830324        29.272733  815.305740        56.811677  4.90051   \n",
              "...          ...              ...         ...              ...      ...   \n",
              "1098  181.198355         9.594573  225.304203        15.699521  4.85869   \n",
              "1099  108.024880         5.719989  134.775277         9.391335  4.83611   \n",
              "1100  440.476515        23.323524  625.947562        43.616927  4.88897   \n",
              "1101  257.948105        13.658524  336.589237        23.454022  4.90688   \n",
              "1102  533.962653        28.273677  807.492307        56.267226  4.89295   \n",
              "\n",
              "           lat  \n",
              "0     52.41772  \n",
              "1     52.37432  \n",
              "2     52.36103  \n",
              "3     52.37663  \n",
              "4     52.37508  \n",
              "...        ...  \n",
              "1098  52.37677  \n",
              "1099  52.34910  \n",
              "1100  52.37798  \n",
              "1101  52.35794  \n",
              "1102  52.37575  \n",
              "\n",
              "[1103 rows x 21 columns]"
            ],
            "text/html": [
              "\n",
              "  <div id=\"df-63ab711a-d5e9-41c6-9d4d-30730f9f0c53\">\n",
              "    <div class=\"colab-df-container\">\n",
              "      <div>\n",
              "<style scoped>\n",
              "    .dataframe tbody tr th:only-of-type {\n",
              "        vertical-align: middle;\n",
              "    }\n",
              "\n",
              "    .dataframe tbody tr th {\n",
              "        vertical-align: top;\n",
              "    }\n",
              "\n",
              "    .dataframe thead th {\n",
              "        text-align: right;\n",
              "    }\n",
              "</style>\n",
              "<table border=\"1\" class=\"dataframe\">\n",
              "  <thead>\n",
              "    <tr style=\"text-align: right;\">\n",
              "      <th></th>\n",
              "      <th>_id</th>\n",
              "      <th>Unnamed: 0</th>\n",
              "      <th>realSum</th>\n",
              "      <th>room_type</th>\n",
              "      <th>room_shared</th>\n",
              "      <th>room_private</th>\n",
              "      <th>person_capacity</th>\n",
              "      <th>host_is_superhost</th>\n",
              "      <th>multi</th>\n",
              "      <th>biz</th>\n",
              "      <th>...</th>\n",
              "      <th>guest_satisfaction_overall</th>\n",
              "      <th>bedrooms</th>\n",
              "      <th>dist</th>\n",
              "      <th>metro_dist</th>\n",
              "      <th>attr_index</th>\n",
              "      <th>attr_index_norm</th>\n",
              "      <th>rest_index</th>\n",
              "      <th>rest_index_norm</th>\n",
              "      <th>lng</th>\n",
              "      <th>lat</th>\n",
              "    </tr>\n",
              "  </thead>\n",
              "  <tbody>\n",
              "    <tr>\n",
              "      <th>0</th>\n",
              "      <td>640a6b80d7ce83fa60f5a491</td>\n",
              "      <td>0</td>\n",
              "      <td>194.033698</td>\n",
              "      <td>Private room</td>\n",
              "      <td>False</td>\n",
              "      <td>True</td>\n",
              "      <td>2.0</td>\n",
              "      <td>False</td>\n",
              "      <td>1</td>\n",
              "      <td>0</td>\n",
              "      <td>...</td>\n",
              "      <td>93.0</td>\n",
              "      <td>1</td>\n",
              "      <td>5.022964</td>\n",
              "      <td>2.539380</td>\n",
              "      <td>78.690379</td>\n",
              "      <td>4.166708</td>\n",
              "      <td>98.253896</td>\n",
              "      <td>6.846473</td>\n",
              "      <td>4.90569</td>\n",
              "      <td>52.41772</td>\n",
              "    </tr>\n",
              "    <tr>\n",
              "      <th>1</th>\n",
              "      <td>640a6b80d7ce83fa60f5a492</td>\n",
              "      <td>1</td>\n",
              "      <td>344.245776</td>\n",
              "      <td>Private room</td>\n",
              "      <td>False</td>\n",
              "      <td>True</td>\n",
              "      <td>4.0</td>\n",
              "      <td>False</td>\n",
              "      <td>0</td>\n",
              "      <td>0</td>\n",
              "      <td>...</td>\n",
              "      <td>85.0</td>\n",
              "      <td>1</td>\n",
              "      <td>0.488389</td>\n",
              "      <td>0.239404</td>\n",
              "      <td>631.176378</td>\n",
              "      <td>33.421209</td>\n",
              "      <td>837.280757</td>\n",
              "      <td>58.342928</td>\n",
              "      <td>4.90005</td>\n",
              "      <td>52.37432</td>\n",
              "    </tr>\n",
              "    <tr>\n",
              "      <th>2</th>\n",
              "      <td>640a6b80d7ce83fa60f5a493</td>\n",
              "      <td>2</td>\n",
              "      <td>264.101422</td>\n",
              "      <td>Private room</td>\n",
              "      <td>False</td>\n",
              "      <td>True</td>\n",
              "      <td>2.0</td>\n",
              "      <td>False</td>\n",
              "      <td>0</td>\n",
              "      <td>1</td>\n",
              "      <td>...</td>\n",
              "      <td>87.0</td>\n",
              "      <td>1</td>\n",
              "      <td>5.748312</td>\n",
              "      <td>3.651621</td>\n",
              "      <td>75.275877</td>\n",
              "      <td>3.985908</td>\n",
              "      <td>95.386955</td>\n",
              "      <td>6.646700</td>\n",
              "      <td>4.97512</td>\n",
              "      <td>52.36103</td>\n",
              "    </tr>\n",
              "    <tr>\n",
              "      <th>3</th>\n",
              "      <td>640a6b80d7ce83fa60f5a494</td>\n",
              "      <td>3</td>\n",
              "      <td>433.529398</td>\n",
              "      <td>Private room</td>\n",
              "      <td>False</td>\n",
              "      <td>True</td>\n",
              "      <td>4.0</td>\n",
              "      <td>False</td>\n",
              "      <td>0</td>\n",
              "      <td>1</td>\n",
              "      <td>...</td>\n",
              "      <td>90.0</td>\n",
              "      <td>2</td>\n",
              "      <td>0.384862</td>\n",
              "      <td>0.439876</td>\n",
              "      <td>493.272534</td>\n",
              "      <td>26.119108</td>\n",
              "      <td>875.033098</td>\n",
              "      <td>60.973565</td>\n",
              "      <td>4.89417</td>\n",
              "      <td>52.37663</td>\n",
              "    </tr>\n",
              "    <tr>\n",
              "      <th>4</th>\n",
              "      <td>640a6b80d7ce83fa60f5a495</td>\n",
              "      <td>4</td>\n",
              "      <td>485.552926</td>\n",
              "      <td>Private room</td>\n",
              "      <td>False</td>\n",
              "      <td>True</td>\n",
              "      <td>2.0</td>\n",
              "      <td>True</td>\n",
              "      <td>0</td>\n",
              "      <td>0</td>\n",
              "      <td>...</td>\n",
              "      <td>98.0</td>\n",
              "      <td>1</td>\n",
              "      <td>0.544738</td>\n",
              "      <td>0.318693</td>\n",
              "      <td>552.830324</td>\n",
              "      <td>29.272733</td>\n",
              "      <td>815.305740</td>\n",
              "      <td>56.811677</td>\n",
              "      <td>4.90051</td>\n",
              "      <td>52.37508</td>\n",
              "    </tr>\n",
              "    <tr>\n",
              "      <th>...</th>\n",
              "      <td>...</td>\n",
              "      <td>...</td>\n",
              "      <td>...</td>\n",
              "      <td>...</td>\n",
              "      <td>...</td>\n",
              "      <td>...</td>\n",
              "      <td>...</td>\n",
              "      <td>...</td>\n",
              "      <td>...</td>\n",
              "      <td>...</td>\n",
              "      <td>...</td>\n",
              "      <td>...</td>\n",
              "      <td>...</td>\n",
              "      <td>...</td>\n",
              "      <td>...</td>\n",
              "      <td>...</td>\n",
              "      <td>...</td>\n",
              "      <td>...</td>\n",
              "      <td>...</td>\n",
              "      <td>...</td>\n",
              "      <td>...</td>\n",
              "    </tr>\n",
              "    <tr>\n",
              "      <th>1098</th>\n",
              "      <td>640a6b80d7ce83fa60f5a8db</td>\n",
              "      <td>1098</td>\n",
              "      <td>2486.115342</td>\n",
              "      <td>Entire home/apt</td>\n",
              "      <td>False</td>\n",
              "      <td>False</td>\n",
              "      <td>2.0</td>\n",
              "      <td>False</td>\n",
              "      <td>0</td>\n",
              "      <td>0</td>\n",
              "      <td>...</td>\n",
              "      <td>100.0</td>\n",
              "      <td>1</td>\n",
              "      <td>2.375833</td>\n",
              "      <td>1.436054</td>\n",
              "      <td>181.198355</td>\n",
              "      <td>9.594573</td>\n",
              "      <td>225.304203</td>\n",
              "      <td>15.699521</td>\n",
              "      <td>4.85869</td>\n",
              "      <td>52.37677</td>\n",
              "    </tr>\n",
              "    <tr>\n",
              "      <th>1099</th>\n",
              "      <td>640a6b80d7ce83fa60f5a8dc</td>\n",
              "      <td>1099</td>\n",
              "      <td>233.637194</td>\n",
              "      <td>Private room</td>\n",
              "      <td>False</td>\n",
              "      <td>True</td>\n",
              "      <td>2.0</td>\n",
              "      <td>False</td>\n",
              "      <td>1</td>\n",
              "      <td>0</td>\n",
              "      <td>...</td>\n",
              "      <td>90.0</td>\n",
              "      <td>1</td>\n",
              "      <td>4.719736</td>\n",
              "      <td>0.322263</td>\n",
              "      <td>108.024880</td>\n",
              "      <td>5.719989</td>\n",
              "      <td>134.775277</td>\n",
              "      <td>9.391335</td>\n",
              "      <td>4.83611</td>\n",
              "      <td>52.34910</td>\n",
              "    </tr>\n",
              "    <tr>\n",
              "      <th>1100</th>\n",
              "      <td>640a6b80d7ce83fa60f5a8dd</td>\n",
              "      <td>1100</td>\n",
              "      <td>317.062311</td>\n",
              "      <td>Private room</td>\n",
              "      <td>False</td>\n",
              "      <td>True</td>\n",
              "      <td>2.0</td>\n",
              "      <td>False</td>\n",
              "      <td>1</td>\n",
              "      <td>0</td>\n",
              "      <td>...</td>\n",
              "      <td>92.0</td>\n",
              "      <td>1</td>\n",
              "      <td>0.598355</td>\n",
              "      <td>0.751993</td>\n",
              "      <td>440.476515</td>\n",
              "      <td>23.323524</td>\n",
              "      <td>625.947562</td>\n",
              "      <td>43.616927</td>\n",
              "      <td>4.88897</td>\n",
              "      <td>52.37798</td>\n",
              "    </tr>\n",
              "    <tr>\n",
              "      <th>1101</th>\n",
              "      <td>640a6b80d7ce83fa60f5a8de</td>\n",
              "      <td>1101</td>\n",
              "      <td>1812.855904</td>\n",
              "      <td>Entire home/apt</td>\n",
              "      <td>False</td>\n",
              "      <td>False</td>\n",
              "      <td>4.0</td>\n",
              "      <td>False</td>\n",
              "      <td>0</td>\n",
              "      <td>0</td>\n",
              "      <td>...</td>\n",
              "      <td>84.0</td>\n",
              "      <td>5</td>\n",
              "      <td>1.943020</td>\n",
              "      <td>0.388532</td>\n",
              "      <td>257.948105</td>\n",
              "      <td>13.658524</td>\n",
              "      <td>336.589237</td>\n",
              "      <td>23.454022</td>\n",
              "      <td>4.90688</td>\n",
              "      <td>52.35794</td>\n",
              "    </tr>\n",
              "    <tr>\n",
              "      <th>1102</th>\n",
              "      <td>640a6b80d7ce83fa60f5a8df</td>\n",
              "      <td>1102</td>\n",
              "      <td>258.008577</td>\n",
              "      <td>Shared room</td>\n",
              "      <td>True</td>\n",
              "      <td>False</td>\n",
              "      <td>2.0</td>\n",
              "      <td>False</td>\n",
              "      <td>0</td>\n",
              "      <td>0</td>\n",
              "      <td>...</td>\n",
              "      <td>90.0</td>\n",
              "      <td>1</td>\n",
              "      <td>0.280204</td>\n",
              "      <td>0.516217</td>\n",
              "      <td>533.962653</td>\n",
              "      <td>28.273677</td>\n",
              "      <td>807.492307</td>\n",
              "      <td>56.267226</td>\n",
              "      <td>4.89295</td>\n",
              "      <td>52.37575</td>\n",
              "    </tr>\n",
              "  </tbody>\n",
              "</table>\n",
              "<p>1103 rows × 21 columns</p>\n",
              "</div>\n",
              "      <button class=\"colab-df-convert\" onclick=\"convertToInteractive('df-63ab711a-d5e9-41c6-9d4d-30730f9f0c53')\"\n",
              "              title=\"Convert this dataframe to an interactive table.\"\n",
              "              style=\"display:none;\">\n",
              "        \n",
              "  <svg xmlns=\"http://www.w3.org/2000/svg\" height=\"24px\"viewBox=\"0 0 24 24\"\n",
              "       width=\"24px\">\n",
              "    <path d=\"M0 0h24v24H0V0z\" fill=\"none\"/>\n",
              "    <path d=\"M18.56 5.44l.94 2.06.94-2.06 2.06-.94-2.06-.94-.94-2.06-.94 2.06-2.06.94zm-11 1L8.5 8.5l.94-2.06 2.06-.94-2.06-.94L8.5 2.5l-.94 2.06-2.06.94zm10 10l.94 2.06.94-2.06 2.06-.94-2.06-.94-.94-2.06-.94 2.06-2.06.94z\"/><path d=\"M17.41 7.96l-1.37-1.37c-.4-.4-.92-.59-1.43-.59-.52 0-1.04.2-1.43.59L10.3 9.45l-7.72 7.72c-.78.78-.78 2.05 0 2.83L4 21.41c.39.39.9.59 1.41.59.51 0 1.02-.2 1.41-.59l7.78-7.78 2.81-2.81c.8-.78.8-2.07 0-2.86zM5.41 20L4 18.59l7.72-7.72 1.47 1.35L5.41 20z\"/>\n",
              "  </svg>\n",
              "      </button>\n",
              "      \n",
              "  <style>\n",
              "    .colab-df-container {\n",
              "      display:flex;\n",
              "      flex-wrap:wrap;\n",
              "      gap: 12px;\n",
              "    }\n",
              "\n",
              "    .colab-df-convert {\n",
              "      background-color: #E8F0FE;\n",
              "      border: none;\n",
              "      border-radius: 50%;\n",
              "      cursor: pointer;\n",
              "      display: none;\n",
              "      fill: #1967D2;\n",
              "      height: 32px;\n",
              "      padding: 0 0 0 0;\n",
              "      width: 32px;\n",
              "    }\n",
              "\n",
              "    .colab-df-convert:hover {\n",
              "      background-color: #E2EBFA;\n",
              "      box-shadow: 0px 1px 2px rgba(60, 64, 67, 0.3), 0px 1px 3px 1px rgba(60, 64, 67, 0.15);\n",
              "      fill: #174EA6;\n",
              "    }\n",
              "\n",
              "    [theme=dark] .colab-df-convert {\n",
              "      background-color: #3B4455;\n",
              "      fill: #D2E3FC;\n",
              "    }\n",
              "\n",
              "    [theme=dark] .colab-df-convert:hover {\n",
              "      background-color: #434B5C;\n",
              "      box-shadow: 0px 1px 3px 1px rgba(0, 0, 0, 0.15);\n",
              "      filter: drop-shadow(0px 1px 2px rgba(0, 0, 0, 0.3));\n",
              "      fill: #FFFFFF;\n",
              "    }\n",
              "  </style>\n",
              "\n",
              "      <script>\n",
              "        const buttonEl =\n",
              "          document.querySelector('#df-63ab711a-d5e9-41c6-9d4d-30730f9f0c53 button.colab-df-convert');\n",
              "        buttonEl.style.display =\n",
              "          google.colab.kernel.accessAllowed ? 'block' : 'none';\n",
              "\n",
              "        async function convertToInteractive(key) {\n",
              "          const element = document.querySelector('#df-63ab711a-d5e9-41c6-9d4d-30730f9f0c53');\n",
              "          const dataTable =\n",
              "            await google.colab.kernel.invokeFunction('convertToInteractive',\n",
              "                                                     [key], {});\n",
              "          if (!dataTable) return;\n",
              "\n",
              "          const docLinkHtml = 'Like what you see? Visit the ' +\n",
              "            '<a target=\"_blank\" href=https://colab.research.google.com/notebooks/data_table.ipynb>data table notebook</a>'\n",
              "            + ' to learn more about interactive tables.';\n",
              "          element.innerHTML = '';\n",
              "          dataTable['output_type'] = 'display_data';\n",
              "          await google.colab.output.renderOutput(dataTable, element);\n",
              "          const docLink = document.createElement('div');\n",
              "          docLink.innerHTML = docLinkHtml;\n",
              "          element.appendChild(docLink);\n",
              "        }\n",
              "      </script>\n",
              "    </div>\n",
              "  </div>\n",
              "  "
            ]
          },
          "metadata": {},
          "execution_count": 31
        }
      ]
    },
    {
      "cell_type": "markdown",
      "source": [
        "## Tratando AirBnB"
      ],
      "metadata": {
        "id": "GsSpSs-BrKXo"
      }
    },
    {
      "cell_type": "code",
      "source": [
        "dfairbnbbruto.drop(['Unnamed: 0', ],axis=1,inplace=True)"
      ],
      "metadata": {
        "id": "54Dj-P6NAFX5"
      },
      "execution_count": null,
      "outputs": []
    },
    {
      "cell_type": "code",
      "source": [
        "dfairbnbbruto.rename(columns={'cleanliness_rating':'Classificação_da_Limpeza', 'guest_satisfaction_overall':'Satisfação_Geral_do_Hóspede', 'bedrooms':'Qtde_Quartos', 'dist':'Distância_do_Centro_da_Cidade', 'realSum':'Preço_Total', 'metro_dist':'Distancia_Metro_mais_próximo'}, inplace=True)"
      ],
      "metadata": {
        "id": "x6HaA8jLALA4"
      },
      "execution_count": null,
      "outputs": []
    },
    {
      "cell_type": "code",
      "source": [
        "#Renomeando colunas #Renomeando colunas df.rename(columns={'nomeatual':'nomenovo', 'nomeatual1':'nomenovo1'}, inplace=True)\n",
        "dfairbnbbruto.rename(columns={'room_type':'Tipo_de_Quarto', 'room_shared':'Quarto_Compartilhado', 'room_private':'Quarto_Privativo','person_capacity':'Capacidade_Máxima_Pessoas','host_is_superhost':'Host_é_SuperHost'},inplace=True)\n"
      ],
      "metadata": {
        "id": "XzlNwfghAOb7"
      },
      "execution_count": null,
      "outputs": []
    },
    {
      "cell_type": "code",
      "source": [
        "dfairbnbbruto"
      ],
      "metadata": {
        "colab": {
          "base_uri": "https://localhost:8080/",
          "height": 488
        },
        "id": "VHksgCrBAqVI",
        "outputId": "a2861b3c-f575-444d-b144-ab8c486c5f00"
      },
      "execution_count": null,
      "outputs": [
        {
          "output_type": "execute_result",
          "data": {
            "text/plain": [
              "                           _id  Preço_Total   Tipo_de_Quarto  \\\n",
              "0     640a6b80d7ce83fa60f5a491   194.033698     Private room   \n",
              "1     640a6b80d7ce83fa60f5a492   344.245776     Private room   \n",
              "2     640a6b80d7ce83fa60f5a493   264.101422     Private room   \n",
              "3     640a6b80d7ce83fa60f5a494   433.529398     Private room   \n",
              "4     640a6b80d7ce83fa60f5a495   485.552926     Private room   \n",
              "...                        ...          ...              ...   \n",
              "1098  640a6b80d7ce83fa60f5a8db  2486.115342  Entire home/apt   \n",
              "1099  640a6b80d7ce83fa60f5a8dc   233.637194     Private room   \n",
              "1100  640a6b80d7ce83fa60f5a8dd   317.062311     Private room   \n",
              "1101  640a6b80d7ce83fa60f5a8de  1812.855904  Entire home/apt   \n",
              "1102  640a6b80d7ce83fa60f5a8df   258.008577      Shared room   \n",
              "\n",
              "      Quarto_Compartilhado  Quarto_Privativo  Capacidade_Máxima_Pessoas  \\\n",
              "0                    False              True                        2.0   \n",
              "1                    False              True                        4.0   \n",
              "2                    False              True                        2.0   \n",
              "3                    False              True                        4.0   \n",
              "4                    False              True                        2.0   \n",
              "...                    ...               ...                        ...   \n",
              "1098                 False             False                        2.0   \n",
              "1099                 False              True                        2.0   \n",
              "1100                 False              True                        2.0   \n",
              "1101                 False             False                        4.0   \n",
              "1102                  True             False                        2.0   \n",
              "\n",
              "      Host_é_SuperHost  multi  biz  Classificação_da_Limpeza  \\\n",
              "0                False      1    0                      10.0   \n",
              "1                False      0    0                       8.0   \n",
              "2                False      0    1                       9.0   \n",
              "3                False      0    1                       9.0   \n",
              "4                 True      0    0                      10.0   \n",
              "...                ...    ...  ...                       ...   \n",
              "1098             False      0    0                      10.0   \n",
              "1099             False      1    0                      10.0   \n",
              "1100             False      1    0                      10.0   \n",
              "1101             False      0    0                       8.0   \n",
              "1102             False      0    0                       8.0   \n",
              "\n",
              "      Satisfação_Geral_do_Hóspede  Qtde_Quartos  \\\n",
              "0                            93.0             1   \n",
              "1                            85.0             1   \n",
              "2                            87.0             1   \n",
              "3                            90.0             2   \n",
              "4                            98.0             1   \n",
              "...                           ...           ...   \n",
              "1098                        100.0             1   \n",
              "1099                         90.0             1   \n",
              "1100                         92.0             1   \n",
              "1101                         84.0             5   \n",
              "1102                         90.0             1   \n",
              "\n",
              "      Distância_do_Centro_da_Cidade  Distancia_Metro_mais_próximo  attr_index  \\\n",
              "0                          5.022964                      2.539380   78.690379   \n",
              "1                          0.488389                      0.239404  631.176378   \n",
              "2                          5.748312                      3.651621   75.275877   \n",
              "3                          0.384862                      0.439876  493.272534   \n",
              "4                          0.544738                      0.318693  552.830324   \n",
              "...                             ...                           ...         ...   \n",
              "1098                       2.375833                      1.436054  181.198355   \n",
              "1099                       4.719736                      0.322263  108.024880   \n",
              "1100                       0.598355                      0.751993  440.476515   \n",
              "1101                       1.943020                      0.388532  257.948105   \n",
              "1102                       0.280204                      0.516217  533.962653   \n",
              "\n",
              "      attr_index_norm  rest_index  rest_index_norm      lng       lat  \n",
              "0            4.166708   98.253896         6.846473  4.90569  52.41772  \n",
              "1           33.421209  837.280757        58.342928  4.90005  52.37432  \n",
              "2            3.985908   95.386955         6.646700  4.97512  52.36103  \n",
              "3           26.119108  875.033098        60.973565  4.89417  52.37663  \n",
              "4           29.272733  815.305740        56.811677  4.90051  52.37508  \n",
              "...               ...         ...              ...      ...       ...  \n",
              "1098         9.594573  225.304203        15.699521  4.85869  52.37677  \n",
              "1099         5.719989  134.775277         9.391335  4.83611  52.34910  \n",
              "1100        23.323524  625.947562        43.616927  4.88897  52.37798  \n",
              "1101        13.658524  336.589237        23.454022  4.90688  52.35794  \n",
              "1102        28.273677  807.492307        56.267226  4.89295  52.37575  \n",
              "\n",
              "[1103 rows x 20 columns]"
            ],
            "text/html": [
              "\n",
              "  <div id=\"df-b63da329-1a60-4cd8-818a-944a6c08dbb5\">\n",
              "    <div class=\"colab-df-container\">\n",
              "      <div>\n",
              "<style scoped>\n",
              "    .dataframe tbody tr th:only-of-type {\n",
              "        vertical-align: middle;\n",
              "    }\n",
              "\n",
              "    .dataframe tbody tr th {\n",
              "        vertical-align: top;\n",
              "    }\n",
              "\n",
              "    .dataframe thead th {\n",
              "        text-align: right;\n",
              "    }\n",
              "</style>\n",
              "<table border=\"1\" class=\"dataframe\">\n",
              "  <thead>\n",
              "    <tr style=\"text-align: right;\">\n",
              "      <th></th>\n",
              "      <th>_id</th>\n",
              "      <th>Preço_Total</th>\n",
              "      <th>Tipo_de_Quarto</th>\n",
              "      <th>Quarto_Compartilhado</th>\n",
              "      <th>Quarto_Privativo</th>\n",
              "      <th>Capacidade_Máxima_Pessoas</th>\n",
              "      <th>Host_é_SuperHost</th>\n",
              "      <th>multi</th>\n",
              "      <th>biz</th>\n",
              "      <th>Classificação_da_Limpeza</th>\n",
              "      <th>Satisfação_Geral_do_Hóspede</th>\n",
              "      <th>Qtde_Quartos</th>\n",
              "      <th>Distância_do_Centro_da_Cidade</th>\n",
              "      <th>Distancia_Metro_mais_próximo</th>\n",
              "      <th>attr_index</th>\n",
              "      <th>attr_index_norm</th>\n",
              "      <th>rest_index</th>\n",
              "      <th>rest_index_norm</th>\n",
              "      <th>lng</th>\n",
              "      <th>lat</th>\n",
              "    </tr>\n",
              "  </thead>\n",
              "  <tbody>\n",
              "    <tr>\n",
              "      <th>0</th>\n",
              "      <td>640a6b80d7ce83fa60f5a491</td>\n",
              "      <td>194.033698</td>\n",
              "      <td>Private room</td>\n",
              "      <td>False</td>\n",
              "      <td>True</td>\n",
              "      <td>2.0</td>\n",
              "      <td>False</td>\n",
              "      <td>1</td>\n",
              "      <td>0</td>\n",
              "      <td>10.0</td>\n",
              "      <td>93.0</td>\n",
              "      <td>1</td>\n",
              "      <td>5.022964</td>\n",
              "      <td>2.539380</td>\n",
              "      <td>78.690379</td>\n",
              "      <td>4.166708</td>\n",
              "      <td>98.253896</td>\n",
              "      <td>6.846473</td>\n",
              "      <td>4.90569</td>\n",
              "      <td>52.41772</td>\n",
              "    </tr>\n",
              "    <tr>\n",
              "      <th>1</th>\n",
              "      <td>640a6b80d7ce83fa60f5a492</td>\n",
              "      <td>344.245776</td>\n",
              "      <td>Private room</td>\n",
              "      <td>False</td>\n",
              "      <td>True</td>\n",
              "      <td>4.0</td>\n",
              "      <td>False</td>\n",
              "      <td>0</td>\n",
              "      <td>0</td>\n",
              "      <td>8.0</td>\n",
              "      <td>85.0</td>\n",
              "      <td>1</td>\n",
              "      <td>0.488389</td>\n",
              "      <td>0.239404</td>\n",
              "      <td>631.176378</td>\n",
              "      <td>33.421209</td>\n",
              "      <td>837.280757</td>\n",
              "      <td>58.342928</td>\n",
              "      <td>4.90005</td>\n",
              "      <td>52.37432</td>\n",
              "    </tr>\n",
              "    <tr>\n",
              "      <th>2</th>\n",
              "      <td>640a6b80d7ce83fa60f5a493</td>\n",
              "      <td>264.101422</td>\n",
              "      <td>Private room</td>\n",
              "      <td>False</td>\n",
              "      <td>True</td>\n",
              "      <td>2.0</td>\n",
              "      <td>False</td>\n",
              "      <td>0</td>\n",
              "      <td>1</td>\n",
              "      <td>9.0</td>\n",
              "      <td>87.0</td>\n",
              "      <td>1</td>\n",
              "      <td>5.748312</td>\n",
              "      <td>3.651621</td>\n",
              "      <td>75.275877</td>\n",
              "      <td>3.985908</td>\n",
              "      <td>95.386955</td>\n",
              "      <td>6.646700</td>\n",
              "      <td>4.97512</td>\n",
              "      <td>52.36103</td>\n",
              "    </tr>\n",
              "    <tr>\n",
              "      <th>3</th>\n",
              "      <td>640a6b80d7ce83fa60f5a494</td>\n",
              "      <td>433.529398</td>\n",
              "      <td>Private room</td>\n",
              "      <td>False</td>\n",
              "      <td>True</td>\n",
              "      <td>4.0</td>\n",
              "      <td>False</td>\n",
              "      <td>0</td>\n",
              "      <td>1</td>\n",
              "      <td>9.0</td>\n",
              "      <td>90.0</td>\n",
              "      <td>2</td>\n",
              "      <td>0.384862</td>\n",
              "      <td>0.439876</td>\n",
              "      <td>493.272534</td>\n",
              "      <td>26.119108</td>\n",
              "      <td>875.033098</td>\n",
              "      <td>60.973565</td>\n",
              "      <td>4.89417</td>\n",
              "      <td>52.37663</td>\n",
              "    </tr>\n",
              "    <tr>\n",
              "      <th>4</th>\n",
              "      <td>640a6b80d7ce83fa60f5a495</td>\n",
              "      <td>485.552926</td>\n",
              "      <td>Private room</td>\n",
              "      <td>False</td>\n",
              "      <td>True</td>\n",
              "      <td>2.0</td>\n",
              "      <td>True</td>\n",
              "      <td>0</td>\n",
              "      <td>0</td>\n",
              "      <td>10.0</td>\n",
              "      <td>98.0</td>\n",
              "      <td>1</td>\n",
              "      <td>0.544738</td>\n",
              "      <td>0.318693</td>\n",
              "      <td>552.830324</td>\n",
              "      <td>29.272733</td>\n",
              "      <td>815.305740</td>\n",
              "      <td>56.811677</td>\n",
              "      <td>4.90051</td>\n",
              "      <td>52.37508</td>\n",
              "    </tr>\n",
              "    <tr>\n",
              "      <th>...</th>\n",
              "      <td>...</td>\n",
              "      <td>...</td>\n",
              "      <td>...</td>\n",
              "      <td>...</td>\n",
              "      <td>...</td>\n",
              "      <td>...</td>\n",
              "      <td>...</td>\n",
              "      <td>...</td>\n",
              "      <td>...</td>\n",
              "      <td>...</td>\n",
              "      <td>...</td>\n",
              "      <td>...</td>\n",
              "      <td>...</td>\n",
              "      <td>...</td>\n",
              "      <td>...</td>\n",
              "      <td>...</td>\n",
              "      <td>...</td>\n",
              "      <td>...</td>\n",
              "      <td>...</td>\n",
              "      <td>...</td>\n",
              "    </tr>\n",
              "    <tr>\n",
              "      <th>1098</th>\n",
              "      <td>640a6b80d7ce83fa60f5a8db</td>\n",
              "      <td>2486.115342</td>\n",
              "      <td>Entire home/apt</td>\n",
              "      <td>False</td>\n",
              "      <td>False</td>\n",
              "      <td>2.0</td>\n",
              "      <td>False</td>\n",
              "      <td>0</td>\n",
              "      <td>0</td>\n",
              "      <td>10.0</td>\n",
              "      <td>100.0</td>\n",
              "      <td>1</td>\n",
              "      <td>2.375833</td>\n",
              "      <td>1.436054</td>\n",
              "      <td>181.198355</td>\n",
              "      <td>9.594573</td>\n",
              "      <td>225.304203</td>\n",
              "      <td>15.699521</td>\n",
              "      <td>4.85869</td>\n",
              "      <td>52.37677</td>\n",
              "    </tr>\n",
              "    <tr>\n",
              "      <th>1099</th>\n",
              "      <td>640a6b80d7ce83fa60f5a8dc</td>\n",
              "      <td>233.637194</td>\n",
              "      <td>Private room</td>\n",
              "      <td>False</td>\n",
              "      <td>True</td>\n",
              "      <td>2.0</td>\n",
              "      <td>False</td>\n",
              "      <td>1</td>\n",
              "      <td>0</td>\n",
              "      <td>10.0</td>\n",
              "      <td>90.0</td>\n",
              "      <td>1</td>\n",
              "      <td>4.719736</td>\n",
              "      <td>0.322263</td>\n",
              "      <td>108.024880</td>\n",
              "      <td>5.719989</td>\n",
              "      <td>134.775277</td>\n",
              "      <td>9.391335</td>\n",
              "      <td>4.83611</td>\n",
              "      <td>52.34910</td>\n",
              "    </tr>\n",
              "    <tr>\n",
              "      <th>1100</th>\n",
              "      <td>640a6b80d7ce83fa60f5a8dd</td>\n",
              "      <td>317.062311</td>\n",
              "      <td>Private room</td>\n",
              "      <td>False</td>\n",
              "      <td>True</td>\n",
              "      <td>2.0</td>\n",
              "      <td>False</td>\n",
              "      <td>1</td>\n",
              "      <td>0</td>\n",
              "      <td>10.0</td>\n",
              "      <td>92.0</td>\n",
              "      <td>1</td>\n",
              "      <td>0.598355</td>\n",
              "      <td>0.751993</td>\n",
              "      <td>440.476515</td>\n",
              "      <td>23.323524</td>\n",
              "      <td>625.947562</td>\n",
              "      <td>43.616927</td>\n",
              "      <td>4.88897</td>\n",
              "      <td>52.37798</td>\n",
              "    </tr>\n",
              "    <tr>\n",
              "      <th>1101</th>\n",
              "      <td>640a6b80d7ce83fa60f5a8de</td>\n",
              "      <td>1812.855904</td>\n",
              "      <td>Entire home/apt</td>\n",
              "      <td>False</td>\n",
              "      <td>False</td>\n",
              "      <td>4.0</td>\n",
              "      <td>False</td>\n",
              "      <td>0</td>\n",
              "      <td>0</td>\n",
              "      <td>8.0</td>\n",
              "      <td>84.0</td>\n",
              "      <td>5</td>\n",
              "      <td>1.943020</td>\n",
              "      <td>0.388532</td>\n",
              "      <td>257.948105</td>\n",
              "      <td>13.658524</td>\n",
              "      <td>336.589237</td>\n",
              "      <td>23.454022</td>\n",
              "      <td>4.90688</td>\n",
              "      <td>52.35794</td>\n",
              "    </tr>\n",
              "    <tr>\n",
              "      <th>1102</th>\n",
              "      <td>640a6b80d7ce83fa60f5a8df</td>\n",
              "      <td>258.008577</td>\n",
              "      <td>Shared room</td>\n",
              "      <td>True</td>\n",
              "      <td>False</td>\n",
              "      <td>2.0</td>\n",
              "      <td>False</td>\n",
              "      <td>0</td>\n",
              "      <td>0</td>\n",
              "      <td>8.0</td>\n",
              "      <td>90.0</td>\n",
              "      <td>1</td>\n",
              "      <td>0.280204</td>\n",
              "      <td>0.516217</td>\n",
              "      <td>533.962653</td>\n",
              "      <td>28.273677</td>\n",
              "      <td>807.492307</td>\n",
              "      <td>56.267226</td>\n",
              "      <td>4.89295</td>\n",
              "      <td>52.37575</td>\n",
              "    </tr>\n",
              "  </tbody>\n",
              "</table>\n",
              "<p>1103 rows × 20 columns</p>\n",
              "</div>\n",
              "      <button class=\"colab-df-convert\" onclick=\"convertToInteractive('df-b63da329-1a60-4cd8-818a-944a6c08dbb5')\"\n",
              "              title=\"Convert this dataframe to an interactive table.\"\n",
              "              style=\"display:none;\">\n",
              "        \n",
              "  <svg xmlns=\"http://www.w3.org/2000/svg\" height=\"24px\"viewBox=\"0 0 24 24\"\n",
              "       width=\"24px\">\n",
              "    <path d=\"M0 0h24v24H0V0z\" fill=\"none\"/>\n",
              "    <path d=\"M18.56 5.44l.94 2.06.94-2.06 2.06-.94-2.06-.94-.94-2.06-.94 2.06-2.06.94zm-11 1L8.5 8.5l.94-2.06 2.06-.94-2.06-.94L8.5 2.5l-.94 2.06-2.06.94zm10 10l.94 2.06.94-2.06 2.06-.94-2.06-.94-.94-2.06-.94 2.06-2.06.94z\"/><path d=\"M17.41 7.96l-1.37-1.37c-.4-.4-.92-.59-1.43-.59-.52 0-1.04.2-1.43.59L10.3 9.45l-7.72 7.72c-.78.78-.78 2.05 0 2.83L4 21.41c.39.39.9.59 1.41.59.51 0 1.02-.2 1.41-.59l7.78-7.78 2.81-2.81c.8-.78.8-2.07 0-2.86zM5.41 20L4 18.59l7.72-7.72 1.47 1.35L5.41 20z\"/>\n",
              "  </svg>\n",
              "      </button>\n",
              "      \n",
              "  <style>\n",
              "    .colab-df-container {\n",
              "      display:flex;\n",
              "      flex-wrap:wrap;\n",
              "      gap: 12px;\n",
              "    }\n",
              "\n",
              "    .colab-df-convert {\n",
              "      background-color: #E8F0FE;\n",
              "      border: none;\n",
              "      border-radius: 50%;\n",
              "      cursor: pointer;\n",
              "      display: none;\n",
              "      fill: #1967D2;\n",
              "      height: 32px;\n",
              "      padding: 0 0 0 0;\n",
              "      width: 32px;\n",
              "    }\n",
              "\n",
              "    .colab-df-convert:hover {\n",
              "      background-color: #E2EBFA;\n",
              "      box-shadow: 0px 1px 2px rgba(60, 64, 67, 0.3), 0px 1px 3px 1px rgba(60, 64, 67, 0.15);\n",
              "      fill: #174EA6;\n",
              "    }\n",
              "\n",
              "    [theme=dark] .colab-df-convert {\n",
              "      background-color: #3B4455;\n",
              "      fill: #D2E3FC;\n",
              "    }\n",
              "\n",
              "    [theme=dark] .colab-df-convert:hover {\n",
              "      background-color: #434B5C;\n",
              "      box-shadow: 0px 1px 3px 1px rgba(0, 0, 0, 0.15);\n",
              "      filter: drop-shadow(0px 1px 2px rgba(0, 0, 0, 0.3));\n",
              "      fill: #FFFFFF;\n",
              "    }\n",
              "  </style>\n",
              "\n",
              "      <script>\n",
              "        const buttonEl =\n",
              "          document.querySelector('#df-b63da329-1a60-4cd8-818a-944a6c08dbb5 button.colab-df-convert');\n",
              "        buttonEl.style.display =\n",
              "          google.colab.kernel.accessAllowed ? 'block' : 'none';\n",
              "\n",
              "        async function convertToInteractive(key) {\n",
              "          const element = document.querySelector('#df-b63da329-1a60-4cd8-818a-944a6c08dbb5');\n",
              "          const dataTable =\n",
              "            await google.colab.kernel.invokeFunction('convertToInteractive',\n",
              "                                                     [key], {});\n",
              "          if (!dataTable) return;\n",
              "\n",
              "          const docLinkHtml = 'Like what you see? Visit the ' +\n",
              "            '<a target=\"_blank\" href=https://colab.research.google.com/notebooks/data_table.ipynb>data table notebook</a>'\n",
              "            + ' to learn more about interactive tables.';\n",
              "          element.innerHTML = '';\n",
              "          dataTable['output_type'] = 'display_data';\n",
              "          await google.colab.output.renderOutput(dataTable, element);\n",
              "          const docLink = document.createElement('div');\n",
              "          docLink.innerHTML = docLinkHtml;\n",
              "          element.appendChild(docLink);\n",
              "        }\n",
              "      </script>\n",
              "    </div>\n",
              "  </div>\n",
              "  "
            ]
          },
          "metadata": {},
          "execution_count": 48
        }
      ]
    },
    {
      "cell_type": "code",
      "source": [
        "correcoes = {\n",
        "    'Entire home/apt':'Casa/Apt Inteiro',\n",
        "    'Private room':'Quarto Privativo',\n",
        "    'Shared room':'Quarto Compartilhado',\n",
        "}\n",
        "\n",
        "for key, value in correcoes.items():\n",
        "  dfairbnbbruto.loc[dfairbnbbruto.Tipo_de_Quarto==key,'Tipo_de_Quarto'] = value"
      ],
      "metadata": {
        "id": "3QBRyYXXrOw8"
      },
      "execution_count": null,
      "outputs": []
    },
    {
      "cell_type": "markdown",
      "source": [
        "##AirBnB Vira coleção AirBnB-Tratados"
      ],
      "metadata": {
        "id": "fNF71f--rK2F"
      }
    },
    {
      "cell_type": "code",
      "source": [
        "db3 = client['tarefa']\n",
        "colecaoairbnbtratado = db3['AirBnB-Tratados']\n",
        "colecaoairbnbtratado.count_documents({})"
      ],
      "metadata": {
        "colab": {
          "base_uri": "https://localhost:8080/"
        },
        "outputId": "838ed29e-1272-482e-ea19-bb0db47d5bed",
        "id": "vN5_lC9TrK2G"
      },
      "execution_count": null,
      "outputs": [
        {
          "output_type": "execute_result",
          "data": {
            "text/plain": [
              "0"
            ]
          },
          "metadata": {},
          "execution_count": 51
        }
      ]
    },
    {
      "cell_type": "code",
      "source": [
        "dfairbnbbruto_dict = dfairbnbbruto.to_dict(\"records\")\n",
        "colecaoairbnbtratado.insert_many(dfairbnbbruto_dict)"
      ],
      "metadata": {
        "colab": {
          "base_uri": "https://localhost:8080/"
        },
        "outputId": "a6d7973b-813c-460b-dbca-73a8173655f2",
        "id": "a6yb3LSxrK2G"
      },
      "execution_count": null,
      "outputs": [
        {
          "output_type": "execute_result",
          "data": {
            "text/plain": [
              "<pymongo.results.InsertManyResult at 0x7fd5cd1ad0a0>"
            ]
          },
          "metadata": {},
          "execution_count": 52
        }
      ]
    },
    {
      "cell_type": "code",
      "source": [
        "# Contagem de linhas deve ter sempre o numero de linhas do shape tem que ser exato validação\n",
        "colecaoairbnbtratado.count_documents({})"
      ],
      "metadata": {
        "colab": {
          "base_uri": "https://localhost:8080/"
        },
        "outputId": "1e48e446-8aaf-490c-873d-20bea06fabdc",
        "id": "vXrPKOIorK2H"
      },
      "execution_count": null,
      "outputs": [
        {
          "output_type": "execute_result",
          "data": {
            "text/plain": [
              "1103"
            ]
          },
          "metadata": {},
          "execution_count": 53
        }
      ]
    }
  ]
}